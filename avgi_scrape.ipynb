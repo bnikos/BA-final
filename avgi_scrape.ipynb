{
  "nbformat": 4,
  "nbformat_minor": 0,
  "metadata": {
    "colab": {
      "provenance": []
    },
    "kernelspec": {
      "name": "python3",
      "display_name": "Python 3"
    },
    "language_info": {
      "name": "python"
    }
  },
  "cells": [
    {
      "cell_type": "code",
      "execution_count": null,
      "metadata": {
        "id": "X3QUO6rxAKiw"
      },
      "outputs": [],
      "source": [
        "import requests\n",
        "from bs4 import BeautifulSoup\n",
        "import pandas as pd\n",
        "import time\n",
        "import numpy as np\n",
        "import matplotlib.pyplot as plt\n",
        "import spacy\n",
        "import seaborn as sns\n",
        "import nltk\n",
        "from wordcloud import WordCloud\n",
        "from sklearn.feature_extraction.text import TfidfVectorizer\n",
        "from sklearn.metrics.pairwise import cosine_similarity\n",
        "from sklearn.feature_extraction.text import CountVectorizer"
      ]
    },
    {
      "cell_type": "code",
      "source": [
        "!python -m spacy download el_core_news_sm"
      ],
      "metadata": {
        "id": "AoMgoJZDAQ2w"
      },
      "execution_count": null,
      "outputs": []
    },
    {
      "cell_type": "code",
      "source": [
        "nlp = spacy.load('el_core_news_sm')"
      ],
      "metadata": {
        "id": "GzD2lypIAV9K"
      },
      "execution_count": null,
      "outputs": []
    },
    {
      "cell_type": "code",
      "source": [
        "cv = CountVectorizer(stop_words= list(nlp.Defaults.stop_words), min_df=0.01, max_df=0.95)"
      ],
      "metadata": {
        "id": "JHH6c3fRAeEe"
      },
      "execution_count": null,
      "outputs": []
    },
    {
      "cell_type": "code",
      "source": [
        "start_page = 0\n",
        "end_page = 17\n",
        "\n",
        "start_url = 'https://www.avgi.gr/search?keywords=%CE%B1%CE%BD%CF%84%CE%B9%CE%B5%CE%BC%CE%B2%CE%BF%CE%BB%CE%B9%CE%B1%CF%83%CF%84%CE%AD%CF%82&_wrapper_format=html&page='\n",
        "\n",
        "test_url = start_url + str(start_page)\n",
        "\n",
        "test_url"
      ],
      "metadata": {
        "id": "b9nzTPBgG6Xu",
        "colab": {
          "base_uri": "https://localhost:8080/",
          "height": 36
        },
        "outputId": "21a3f83d-5b99-460c-b199-4e8e4d784753"
      },
      "execution_count": null,
      "outputs": [
        {
          "output_type": "execute_result",
          "data": {
            "text/plain": [
              "'https://www.avgi.gr/search?keywords=%CE%B1%CE%BD%CF%84%CE%B9%CE%B5%CE%BC%CE%B2%CE%BF%CE%BB%CE%B9%CE%B1%CF%83%CF%84%CE%AD%CF%82&_wrapper_format=html&page=0'"
            ],
            "application/vnd.google.colaboratory.intrinsic+json": {
              "type": "string"
            }
          },
          "metadata": {},
          "execution_count": 5
        }
      ]
    },
    {
      "cell_type": "code",
      "source": [
        "response = requests.get(test_url)\n",
        "doc = BeautifulSoup(response.text, 'html.parser')"
      ],
      "metadata": {
        "id": "cXTcNCGe5j5b"
      },
      "execution_count": null,
      "outputs": []
    },
    {
      "cell_type": "code",
      "source": [
        "teaser_articles_list = doc.find('div', {'class': 'horizontal-teasers'}).find_all('article')"
      ],
      "metadata": {
        "id": "g8xhJLXe6QiV"
      },
      "execution_count": null,
      "outputs": []
    },
    {
      "cell_type": "code",
      "source": [
        "teaser_articles_list"
      ],
      "metadata": {
        "id": "RSvNFsTv67c9"
      },
      "execution_count": null,
      "outputs": []
    },
    {
      "cell_type": "code",
      "source": [
        "link = teaser_articles_list[0].find('a')['href']\n",
        "\n",
        "link"
      ],
      "metadata": {
        "colab": {
          "base_uri": "https://localhost:8080/",
          "height": 36
        },
        "id": "pnfZdApY7CGJ",
        "outputId": "6a73e3a2-fe18-418c-88ba-38ebec7e6f76"
      },
      "execution_count": null,
      "outputs": [
        {
          "output_type": "execute_result",
          "data": {
            "text/plain": [
              "'/diethni/454475_o-atsalakotos-kyrios-royte'"
            ],
            "application/vnd.google.colaboratory.intrinsic+json": {
              "type": "string"
            }
          },
          "metadata": {},
          "execution_count": 9
        }
      ]
    },
    {
      "cell_type": "code",
      "source": [
        "main_url = 'https://www.avgi.gr'\n",
        "article_link = main_url + link\n",
        "print(article_link)"
      ],
      "metadata": {
        "colab": {
          "base_uri": "https://localhost:8080/"
        },
        "id": "ssS0GQEB7pZ5",
        "outputId": "7ac553b0-b25f-4ef5-d631-e6bf737b91d3"
      },
      "execution_count": null,
      "outputs": [
        {
          "output_type": "stream",
          "name": "stdout",
          "text": [
            "https://www.avgi.gr/diethni/454475_o-atsalakotos-kyrios-royte\n"
          ]
        }
      ]
    },
    {
      "cell_type": "code",
      "source": [
        "teasers_list = []\n",
        "\n",
        "for page_num in range(start_page, end_page+1):\n",
        "  page_url = start_url + str(page_num)\n",
        "  response = requests.get(page_url)\n",
        "  doc = BeautifulSoup(response.text, 'html.parser')\n",
        "\n",
        "  #*** ΔΩΣΤΕ ΤΗ ΔΙΚΗ ΣΑΣ ΤΙΜΗ στo teaser_articles_list***\n",
        "  teaser_articles_list = doc.find('div', {'class': 'horizontal-teasers'}).find_all('article')\n",
        "\n",
        "\n",
        "  for teaser in teaser_articles_list:\n",
        "      story_dict = {}\n",
        "      try:\n",
        "\n",
        "        #*** ΔΩΣΤΕ ΤΗ ΔΙΚΗ ΣΑΣ ΤΙΜΗ στο link, ΜΕΤΑ το teaser\n",
        "        link = teaser.find('a')['href']\n",
        "\n",
        "\n",
        "        if link.startswith(\"http\"):\n",
        "          story_dict['url'] = link\n",
        "        else:\n",
        "          story_dict['url'] = main_url + link\n",
        "      except:\n",
        "        story_dict['url'] = ''\n",
        "        pass\n",
        "      teasers_list.append(story_dict)\n",
        "  time.sleep(1)"
      ],
      "metadata": {
        "id": "75Ot0ggH71mA"
      },
      "execution_count": null,
      "outputs": []
    },
    {
      "cell_type": "code",
      "source": [
        "avgi_teasers_df = pd.DataFrame(teasers_list)\n",
        "avgi_teasers_df"
      ],
      "metadata": {
        "colab": {
          "base_uri": "https://localhost:8080/",
          "height": 423
        },
        "id": "SDleUOZv85V7",
        "outputId": "f9ef5c22-817a-42fe-d8aa-3bec3b45cc97"
      },
      "execution_count": null,
      "outputs": [
        {
          "output_type": "execute_result",
          "data": {
            "text/plain": [
              "                                                   url\n",
              "0    https://www.avgi.gr/diethni/454475_o-atsalakot...\n",
              "1    https://www.avgi.gr/tehnes/450809_peri-bibliot...\n",
              "2    https://www.avgi.gr/politiki/446755_paraskinio...\n",
              "3    https://www.avgi.gr/diethni/439671_katadikasti...\n",
              "4    https://www.avgi.gr/diethni/436979_antiembolia...\n",
              "..                                                 ...\n",
              "168  https://www.avgi.gr/arheio/364871_antiembolias...\n",
              "169  https://www.avgi.gr/arheio/363853_ypohreotikos...\n",
              "170  https://www.avgi.gr/entheta/prisma/287180_embo...\n",
              "171  https://www.avgi.gr/koinonia/284812_o-arbaniti...\n",
              "172  https://www.avgi.gr/arheio/265214_ipa-antiembo...\n",
              "\n",
              "[173 rows x 1 columns]"
            ],
            "text/html": [
              "\n",
              "\n",
              "  <div id=\"df-b921e85a-547b-4677-ae09-6c868ec633ea\">\n",
              "    <div class=\"colab-df-container\">\n",
              "      <div>\n",
              "<style scoped>\n",
              "    .dataframe tbody tr th:only-of-type {\n",
              "        vertical-align: middle;\n",
              "    }\n",
              "\n",
              "    .dataframe tbody tr th {\n",
              "        vertical-align: top;\n",
              "    }\n",
              "\n",
              "    .dataframe thead th {\n",
              "        text-align: right;\n",
              "    }\n",
              "</style>\n",
              "<table border=\"1\" class=\"dataframe\">\n",
              "  <thead>\n",
              "    <tr style=\"text-align: right;\">\n",
              "      <th></th>\n",
              "      <th>url</th>\n",
              "    </tr>\n",
              "  </thead>\n",
              "  <tbody>\n",
              "    <tr>\n",
              "      <th>0</th>\n",
              "      <td>https://www.avgi.gr/diethni/454475_o-atsalakot...</td>\n",
              "    </tr>\n",
              "    <tr>\n",
              "      <th>1</th>\n",
              "      <td>https://www.avgi.gr/tehnes/450809_peri-bibliot...</td>\n",
              "    </tr>\n",
              "    <tr>\n",
              "      <th>2</th>\n",
              "      <td>https://www.avgi.gr/politiki/446755_paraskinio...</td>\n",
              "    </tr>\n",
              "    <tr>\n",
              "      <th>3</th>\n",
              "      <td>https://www.avgi.gr/diethni/439671_katadikasti...</td>\n",
              "    </tr>\n",
              "    <tr>\n",
              "      <th>4</th>\n",
              "      <td>https://www.avgi.gr/diethni/436979_antiembolia...</td>\n",
              "    </tr>\n",
              "    <tr>\n",
              "      <th>...</th>\n",
              "      <td>...</td>\n",
              "    </tr>\n",
              "    <tr>\n",
              "      <th>168</th>\n",
              "      <td>https://www.avgi.gr/arheio/364871_antiembolias...</td>\n",
              "    </tr>\n",
              "    <tr>\n",
              "      <th>169</th>\n",
              "      <td>https://www.avgi.gr/arheio/363853_ypohreotikos...</td>\n",
              "    </tr>\n",
              "    <tr>\n",
              "      <th>170</th>\n",
              "      <td>https://www.avgi.gr/entheta/prisma/287180_embo...</td>\n",
              "    </tr>\n",
              "    <tr>\n",
              "      <th>171</th>\n",
              "      <td>https://www.avgi.gr/koinonia/284812_o-arbaniti...</td>\n",
              "    </tr>\n",
              "    <tr>\n",
              "      <th>172</th>\n",
              "      <td>https://www.avgi.gr/arheio/265214_ipa-antiembo...</td>\n",
              "    </tr>\n",
              "  </tbody>\n",
              "</table>\n",
              "<p>173 rows × 1 columns</p>\n",
              "</div>\n",
              "      <button class=\"colab-df-convert\" onclick=\"convertToInteractive('df-b921e85a-547b-4677-ae09-6c868ec633ea')\"\n",
              "              title=\"Convert this dataframe to an interactive table.\"\n",
              "              style=\"display:none;\">\n",
              "\n",
              "  <svg xmlns=\"http://www.w3.org/2000/svg\" height=\"24px\"viewBox=\"0 0 24 24\"\n",
              "       width=\"24px\">\n",
              "    <path d=\"M0 0h24v24H0V0z\" fill=\"none\"/>\n",
              "    <path d=\"M18.56 5.44l.94 2.06.94-2.06 2.06-.94-2.06-.94-.94-2.06-.94 2.06-2.06.94zm-11 1L8.5 8.5l.94-2.06 2.06-.94-2.06-.94L8.5 2.5l-.94 2.06-2.06.94zm10 10l.94 2.06.94-2.06 2.06-.94-2.06-.94-.94-2.06-.94 2.06-2.06.94z\"/><path d=\"M17.41 7.96l-1.37-1.37c-.4-.4-.92-.59-1.43-.59-.52 0-1.04.2-1.43.59L10.3 9.45l-7.72 7.72c-.78.78-.78 2.05 0 2.83L4 21.41c.39.39.9.59 1.41.59.51 0 1.02-.2 1.41-.59l7.78-7.78 2.81-2.81c.8-.78.8-2.07 0-2.86zM5.41 20L4 18.59l7.72-7.72 1.47 1.35L5.41 20z\"/>\n",
              "  </svg>\n",
              "      </button>\n",
              "\n",
              "\n",
              "\n",
              "    <div id=\"df-6c3ee028-ce60-435a-8208-f77705e9ba9a\">\n",
              "      <button class=\"colab-df-quickchart\" onclick=\"quickchart('df-6c3ee028-ce60-435a-8208-f77705e9ba9a')\"\n",
              "              title=\"Suggest charts.\"\n",
              "              style=\"display:none;\">\n",
              "\n",
              "<svg xmlns=\"http://www.w3.org/2000/svg\" height=\"24px\"viewBox=\"0 0 24 24\"\n",
              "     width=\"24px\">\n",
              "    <g>\n",
              "        <path d=\"M19 3H5c-1.1 0-2 .9-2 2v14c0 1.1.9 2 2 2h14c1.1 0 2-.9 2-2V5c0-1.1-.9-2-2-2zM9 17H7v-7h2v7zm4 0h-2V7h2v10zm4 0h-2v-4h2v4z\"/>\n",
              "    </g>\n",
              "</svg>\n",
              "      </button>\n",
              "    </div>\n",
              "\n",
              "<style>\n",
              "  .colab-df-quickchart {\n",
              "    background-color: #E8F0FE;\n",
              "    border: none;\n",
              "    border-radius: 50%;\n",
              "    cursor: pointer;\n",
              "    display: none;\n",
              "    fill: #1967D2;\n",
              "    height: 32px;\n",
              "    padding: 0 0 0 0;\n",
              "    width: 32px;\n",
              "  }\n",
              "\n",
              "  .colab-df-quickchart:hover {\n",
              "    background-color: #E2EBFA;\n",
              "    box-shadow: 0px 1px 2px rgba(60, 64, 67, 0.3), 0px 1px 3px 1px rgba(60, 64, 67, 0.15);\n",
              "    fill: #174EA6;\n",
              "  }\n",
              "\n",
              "  [theme=dark] .colab-df-quickchart {\n",
              "    background-color: #3B4455;\n",
              "    fill: #D2E3FC;\n",
              "  }\n",
              "\n",
              "  [theme=dark] .colab-df-quickchart:hover {\n",
              "    background-color: #434B5C;\n",
              "    box-shadow: 0px 1px 3px 1px rgba(0, 0, 0, 0.15);\n",
              "    filter: drop-shadow(0px 1px 2px rgba(0, 0, 0, 0.3));\n",
              "    fill: #FFFFFF;\n",
              "  }\n",
              "</style>\n",
              "\n",
              "    <script>\n",
              "      async function quickchart(key) {\n",
              "        const containerElement = document.querySelector('#' + key);\n",
              "        const charts = await google.colab.kernel.invokeFunction(\n",
              "            'suggestCharts', [key], {});\n",
              "      }\n",
              "    </script>\n",
              "\n",
              "      <script>\n",
              "\n",
              "function displayQuickchartButton(domScope) {\n",
              "  let quickchartButtonEl =\n",
              "    domScope.querySelector('#df-6c3ee028-ce60-435a-8208-f77705e9ba9a button.colab-df-quickchart');\n",
              "  quickchartButtonEl.style.display =\n",
              "    google.colab.kernel.accessAllowed ? 'block' : 'none';\n",
              "}\n",
              "\n",
              "        displayQuickchartButton(document);\n",
              "      </script>\n",
              "      <style>\n",
              "    .colab-df-container {\n",
              "      display:flex;\n",
              "      flex-wrap:wrap;\n",
              "      gap: 12px;\n",
              "    }\n",
              "\n",
              "    .colab-df-convert {\n",
              "      background-color: #E8F0FE;\n",
              "      border: none;\n",
              "      border-radius: 50%;\n",
              "      cursor: pointer;\n",
              "      display: none;\n",
              "      fill: #1967D2;\n",
              "      height: 32px;\n",
              "      padding: 0 0 0 0;\n",
              "      width: 32px;\n",
              "    }\n",
              "\n",
              "    .colab-df-convert:hover {\n",
              "      background-color: #E2EBFA;\n",
              "      box-shadow: 0px 1px 2px rgba(60, 64, 67, 0.3), 0px 1px 3px 1px rgba(60, 64, 67, 0.15);\n",
              "      fill: #174EA6;\n",
              "    }\n",
              "\n",
              "    [theme=dark] .colab-df-convert {\n",
              "      background-color: #3B4455;\n",
              "      fill: #D2E3FC;\n",
              "    }\n",
              "\n",
              "    [theme=dark] .colab-df-convert:hover {\n",
              "      background-color: #434B5C;\n",
              "      box-shadow: 0px 1px 3px 1px rgba(0, 0, 0, 0.15);\n",
              "      filter: drop-shadow(0px 1px 2px rgba(0, 0, 0, 0.3));\n",
              "      fill: #FFFFFF;\n",
              "    }\n",
              "  </style>\n",
              "\n",
              "      <script>\n",
              "        const buttonEl =\n",
              "          document.querySelector('#df-b921e85a-547b-4677-ae09-6c868ec633ea button.colab-df-convert');\n",
              "        buttonEl.style.display =\n",
              "          google.colab.kernel.accessAllowed ? 'block' : 'none';\n",
              "\n",
              "        async function convertToInteractive(key) {\n",
              "          const element = document.querySelector('#df-b921e85a-547b-4677-ae09-6c868ec633ea');\n",
              "          const dataTable =\n",
              "            await google.colab.kernel.invokeFunction('convertToInteractive',\n",
              "                                                     [key], {});\n",
              "          if (!dataTable) return;\n",
              "\n",
              "          const docLinkHtml = 'Like what you see? Visit the ' +\n",
              "            '<a target=\"_blank\" href=https://colab.research.google.com/notebooks/data_table.ipynb>data table notebook</a>'\n",
              "            + ' to learn more about interactive tables.';\n",
              "          element.innerHTML = '';\n",
              "          dataTable['output_type'] = 'display_data';\n",
              "          await google.colab.output.renderOutput(dataTable, element);\n",
              "          const docLink = document.createElement('div');\n",
              "          docLink.innerHTML = docLinkHtml;\n",
              "          element.appendChild(docLink);\n",
              "        }\n",
              "      </script>\n",
              "    </div>\n",
              "  </div>\n"
            ]
          },
          "metadata": {},
          "execution_count": 12
        }
      ]
    },
    {
      "cell_type": "code",
      "source": [
        "avgi_teasers_df.to_csv('/content/temp/avgi_teasers.csv', index=False)"
      ],
      "metadata": {
        "id": "TRdgjzSP9KlD"
      },
      "execution_count": null,
      "outputs": []
    },
    {
      "cell_type": "code",
      "source": [
        "article_url = 'https://www.avgi.gr/diethni/454475_o-atsalakotos-kyrios-royte'"
      ],
      "metadata": {
        "id": "JaTxiNIc_FMW"
      },
      "execution_count": null,
      "outputs": []
    },
    {
      "cell_type": "code",
      "source": [
        "response = requests.get(article_url)\n",
        "doc = BeautifulSoup(response.text, 'html.parser')"
      ],
      "metadata": {
        "id": "NRa3S5Vz_PH8"
      },
      "execution_count": null,
      "outputs": []
    },
    {
      "cell_type": "code",
      "source": [
        "article = doc.find('article', {'class': 'article'})"
      ],
      "metadata": {
        "id": "t4bzFM_xu5jd"
      },
      "execution_count": null,
      "outputs": []
    },
    {
      "cell_type": "code",
      "source": [
        "section = doc.find('div', {'class': 'article__category'}).find('a').text\n",
        "section"
      ],
      "metadata": {
        "colab": {
          "base_uri": "https://localhost:8080/",
          "height": 36
        },
        "id": "Kkoiq1rH_0_a",
        "outputId": "afe7e3d5-2149-45a3-c07e-cb7f622fd945"
      },
      "execution_count": null,
      "outputs": [
        {
          "output_type": "execute_result",
          "data": {
            "text/plain": [
              "'ΔΙΕΘΝΗ'"
            ],
            "application/vnd.google.colaboratory.intrinsic+json": {
              "type": "string"
            }
          },
          "metadata": {},
          "execution_count": 19
        }
      ]
    },
    {
      "cell_type": "code",
      "source": [
        "title = article.find('section', {'class': 'article__top'}).find('h1', {'class': 'double-title'}).text\n",
        "title"
      ],
      "metadata": {
        "colab": {
          "base_uri": "https://localhost:8080/",
          "height": 36
        },
        "id": "Ku5RmGzQ_4AA",
        "outputId": "57e08685-5b39-4e35-dcf1-3b54cc0a05f0"
      },
      "execution_count": null,
      "outputs": [
        {
          "output_type": "execute_result",
          "data": {
            "text/plain": [
              "' Ο ατσαλάκωτος κύριος Ρούτε'"
            ],
            "application/vnd.google.colaboratory.intrinsic+json": {
              "type": "string"
            }
          },
          "metadata": {},
          "execution_count": 20
        }
      ]
    },
    {
      "cell_type": "code",
      "source": [
        "date = article.find('time', {'class': 'default-date'})['datetime']\n",
        "date"
      ],
      "metadata": {
        "colab": {
          "base_uri": "https://localhost:8080/",
          "height": 36
        },
        "id": "Gckm7ACUAQ-0",
        "outputId": "a9317e01-2452-449b-ddbd-1191c6fbf1a9"
      },
      "execution_count": null,
      "outputs": [
        {
          "output_type": "execute_result",
          "data": {
            "text/plain": [
              "'2023-07-11T12:01:03+03:00'"
            ],
            "application/vnd.google.colaboratory.intrinsic+json": {
              "type": "string"
            }
          },
          "metadata": {},
          "execution_count": 21
        }
      ]
    },
    {
      "cell_type": "code",
      "source": [
        "author = article.find('a', {'class', \"article__author\"}).span.text\n",
        "author"
      ],
      "metadata": {
        "colab": {
          "base_uri": "https://localhost:8080/",
          "height": 36
        },
        "id": "xew_z0RHAWNN",
        "outputId": "9636a57f-b987-4443-b9e0-92e8d4a8c775"
      },
      "execution_count": null,
      "outputs": [
        {
          "output_type": "execute_result",
          "data": {
            "text/plain": [
              "'Κώστας Αργυρός'"
            ],
            "application/vnd.google.colaboratory.intrinsic+json": {
              "type": "string"
            }
          },
          "metadata": {},
          "execution_count": 22
        }
      ]
    },
    {
      "cell_type": "code",
      "source": [
        "paragraphs = article.find_all('p')\n",
        "paragraphs"
      ],
      "metadata": {
        "id": "02mmHuVFAZpS"
      },
      "execution_count": null,
      "outputs": []
    },
    {
      "cell_type": "code",
      "source": [
        "p_texts_list = []                      # δημιουργία κενής λίστας για να αποθηκεύσουμε το text κάθε παραγράφου\n",
        "paragraphs = article.find_all('p')     # λίστα με όλες τις παραγράφους\n",
        "for p in paragraphs:                   # για κάθε μια από τις παραγράφους στη λίστα\n",
        "  p_texts_list.append(p.text)          # πάρε το .text και πρόσθεσέ το στη λίστα με τα texts των παραγράφων\n",
        "full_text = ' '.join(p_texts_list)     # συνένωση των texts των παραγράφων\n",
        "full_text = \"\".join(full_text.splitlines())\n",
        "full_text"
      ],
      "metadata": {
        "id": "8DazI9UFAgH3"
      },
      "execution_count": null,
      "outputs": []
    },
    {
      "cell_type": "code",
      "source": [
        "full_articles_list = []\n",
        "\n",
        "for article_url in avgi_teasers_df['url']:\n",
        "  response = requests.get(article_url)\n",
        "  doc = BeautifulSoup(response.text, 'html.parser')\n",
        "\n",
        "  #*** ΔΩΣΤΕ ΤΗ ΔΙΚΗ ΣΑΣ ΤΙΜΗ στo article που βρήκατε παραπάνω***\n",
        "  article = doc.find('article', {'class': 'article'})\n",
        "\n",
        "  full_article_dict = {}\n",
        "\n",
        "  # website\n",
        "  full_article_dict['site'] = \"avgi.gr\"\n",
        "\n",
        "  # url\n",
        "  full_article_dict['url'] = article_url\n",
        "\n",
        "  #section\n",
        "  try:\n",
        "    section = doc.find('div', {'class': 'article__category'}).find('a').text\n",
        "    full_article_dict['section'] = section\n",
        "  except:\n",
        "    full_article_dict['section'] = ''\n",
        "    pass\n",
        "\n",
        "  #title\n",
        "  try:\n",
        "    title = article.find('section', {'class': 'article__top'}).find('h1', {'class': 'double-title'}).text\n",
        "    full_article_dict['title'] = title\n",
        "  except:\n",
        "    full_article_dict['title'] = ''\n",
        "    pass\n",
        "\n",
        "  # date\n",
        "  try:\n",
        "    date = article.find('time', {'class': 'default-date'})['datetime']\n",
        "    full_article_dict['date'] = date\n",
        "  except:\n",
        "    full_article_dict['date'] = ''\n",
        "    pass\n",
        "\n",
        "  # author\n",
        "  try:\n",
        "    author = article.find('a', {'class', \"article__author\"}).span.text\n",
        "    full_article_dict['author'] = author\n",
        "  except:\n",
        "    full_article_dict['author'] = ''\n",
        "    pass\n",
        "\n",
        "  # full_text\n",
        "  try:\n",
        "    p_texts_list = []\n",
        "    paragraphs = article.find_all('p')\n",
        "    for p in paragraphs:\n",
        "      p_texts_list.append(p.text)\n",
        "    full_text = ' '.join(p_texts_list)\n",
        "    full_text = \"\".join(full_text.splitlines())\n",
        "    full_article_dict['full_text'] = full_text\n",
        "  except:\n",
        "    full_article_dict['full_text'] = ''\n",
        "    pass\n",
        "\n",
        "  full_articles_list.append(full_article_dict)\n",
        "  time.sleep(1)"
      ],
      "metadata": {
        "id": "vvqAM3oaAwu9"
      },
      "execution_count": null,
      "outputs": []
    },
    {
      "cell_type": "code",
      "source": [
        "avgi_full_articles_df = pd.DataFrame(full_articles_list)\n",
        "avgi_full_articles_df"
      ],
      "metadata": {
        "id": "MVAfVmPSIO7T",
        "colab": {
          "base_uri": "https://localhost:8080/",
          "height": 641
        },
        "outputId": "714efdaa-edfa-4488-d924-d7c020d04276"
      },
      "execution_count": null,
      "outputs": [
        {
          "output_type": "execute_result",
          "data": {
            "text/plain": [
              "        site                                                url   section  \\\n",
              "0    avgi.gr  https://www.avgi.gr/diethni/454475_o-atsalakot...    ΔΙΕΘΝΗ   \n",
              "1    avgi.gr  https://www.avgi.gr/tehnes/450809_peri-bibliot...    ΤΕΧΝΕΣ   \n",
              "2    avgi.gr  https://www.avgi.gr/politiki/446755_paraskinio...  ΠΟΛΙΤΙΚΗ   \n",
              "3    avgi.gr  https://www.avgi.gr/diethni/439671_katadikasti...    ΔΙΕΘΝΗ   \n",
              "4    avgi.gr  https://www.avgi.gr/diethni/436979_antiembolia...    ΔΙΕΘΝΗ   \n",
              "..       ...                                                ...       ...   \n",
              "168  avgi.gr  https://www.avgi.gr/arheio/364871_antiembolias...    ΑΡΧΕΙΟ   \n",
              "169  avgi.gr  https://www.avgi.gr/arheio/363853_ypohreotikos...    ΑΡΧΕΙΟ   \n",
              "170  avgi.gr  https://www.avgi.gr/entheta/prisma/287180_embo...    ΠΡΙΣΜΑ   \n",
              "171  avgi.gr  https://www.avgi.gr/koinonia/284812_o-arbaniti...  ΚΟΙΝΩΝΙΑ   \n",
              "172  avgi.gr  https://www.avgi.gr/arheio/265214_ipa-antiembo...    ΑΡΧΕΙΟ   \n",
              "\n",
              "                                                 title  \\\n",
              "0                           Ο ατσαλάκωτος κύριος Ρούτε   \n",
              "1                         Περί βιβλιοθηκών... συλλογές   \n",
              "2     Εκλογές 2023 / Το παρασκήνιο της διάσπασης τη...   \n",
              "3     Γαλλία / Καταδικάστηκαν δύο γυναίκες που διέδ...   \n",
              "4     Νέα Ζηλανδία / Αντιεμβολιαστές και λόμπι των ...   \n",
              "..                                                 ...   \n",
              "168   Αντιεμβολιαστές, ακροδεξιοί και συνωμοσιολόγο...   \n",
              "169   Υποχρεωτικός θα είναι ο εμβολιασμός κατά του ...   \n",
              "170                        Εμβόλια και αντιεμβολιασμός   \n",
              "171             Ο Αρβανίτης, οι γιατροί και τα εμβόλια   \n",
              "172   ΗΠΑ: Το αντιεμβολιαστικό κίνημα αποτελεί σοβα...   \n",
              "\n",
              "                          date                 author  \\\n",
              "0    2023-07-11T12:01:03+03:00         Κώστας Αργυρός   \n",
              "1    2023-06-12T17:30:11+03:00             Καλλίμαχος   \n",
              "2    2023-05-01T15:29:10+03:00  Γιάννης Ανδρουλιδάκης   \n",
              "3    2023-02-15T23:23:05+02:00          Αυγή Newsroom   \n",
              "4    2023-01-21T16:40:31+02:00       Νίκος Κυριακίδης   \n",
              "..                         ...                    ...   \n",
              "168  2020-08-29T09:48:00+03:00          Αυγή Newsroom   \n",
              "169  2020-08-19T08:55:00+03:00          Αυγή Newsroom   \n",
              "170  2018-09-29T19:00:00+03:00          Αυγή Newsroom   \n",
              "171  2018-09-06T19:00:00+03:00          Αυγή Newsroom   \n",
              "172  2018-01-26T13:37:00+02:00          Αυγή Newsroom   \n",
              "\n",
              "                                             full_text  \n",
              "0    Παρέμεινε στο τιμόνι των ολλανδικών κυβερνήσεω...  \n",
              "1    Εχουμε παρουσιάσει από τη στήλη τους περασμένο...  \n",
              "2    Στις 20 Φεβρουαρίου 1933, στην Καγκελαρία του ...  \n",
              "3    Δικαστήριο στη Γαλλία καταδίκασε δύο γυναίκες,...  \n",
              "4    Από την πρώτη κιόλας στιγμή της ανάδυσής της σ...  \n",
              "..                                                 ...  \n",
              "168  Νωρίτερα αυτή την εβδομάδα οι γερμανικές αρχές...  \n",
              "169  Οι αρχές της Αυστραλίας αναμένεται να καταστήσ...  \n",
              "170  Φαίνεται πως, μολονότι πολλές ασθένειες έχουν ...  \n",
              "171  Σάλος στο Ίντερνετ και τα social media δημιουρ...  \n",
              "172  Ο Τζο Ακιούρσο, ένας χειροπράκτης 47 ετών, αρν...  \n",
              "\n",
              "[173 rows x 7 columns]"
            ],
            "text/html": [
              "\n",
              "\n",
              "  <div id=\"df-494b80f7-7da7-428d-a2d2-a736bf2184a1\">\n",
              "    <div class=\"colab-df-container\">\n",
              "      <div>\n",
              "<style scoped>\n",
              "    .dataframe tbody tr th:only-of-type {\n",
              "        vertical-align: middle;\n",
              "    }\n",
              "\n",
              "    .dataframe tbody tr th {\n",
              "        vertical-align: top;\n",
              "    }\n",
              "\n",
              "    .dataframe thead th {\n",
              "        text-align: right;\n",
              "    }\n",
              "</style>\n",
              "<table border=\"1\" class=\"dataframe\">\n",
              "  <thead>\n",
              "    <tr style=\"text-align: right;\">\n",
              "      <th></th>\n",
              "      <th>site</th>\n",
              "      <th>url</th>\n",
              "      <th>section</th>\n",
              "      <th>title</th>\n",
              "      <th>date</th>\n",
              "      <th>author</th>\n",
              "      <th>full_text</th>\n",
              "    </tr>\n",
              "  </thead>\n",
              "  <tbody>\n",
              "    <tr>\n",
              "      <th>0</th>\n",
              "      <td>avgi.gr</td>\n",
              "      <td>https://www.avgi.gr/diethni/454475_o-atsalakot...</td>\n",
              "      <td>ΔΙΕΘΝΗ</td>\n",
              "      <td>Ο ατσαλάκωτος κύριος Ρούτε</td>\n",
              "      <td>2023-07-11T12:01:03+03:00</td>\n",
              "      <td>Κώστας Αργυρός</td>\n",
              "      <td>Παρέμεινε στο τιμόνι των ολλανδικών κυβερνήσεω...</td>\n",
              "    </tr>\n",
              "    <tr>\n",
              "      <th>1</th>\n",
              "      <td>avgi.gr</td>\n",
              "      <td>https://www.avgi.gr/tehnes/450809_peri-bibliot...</td>\n",
              "      <td>ΤΕΧΝΕΣ</td>\n",
              "      <td>Περί βιβλιοθηκών... συλλογές</td>\n",
              "      <td>2023-06-12T17:30:11+03:00</td>\n",
              "      <td>Καλλίμαχος</td>\n",
              "      <td>Εχουμε παρουσιάσει από τη στήλη τους περασμένο...</td>\n",
              "    </tr>\n",
              "    <tr>\n",
              "      <th>2</th>\n",
              "      <td>avgi.gr</td>\n",
              "      <td>https://www.avgi.gr/politiki/446755_paraskinio...</td>\n",
              "      <td>ΠΟΛΙΤΙΚΗ</td>\n",
              "      <td>Εκλογές 2023 / Το παρασκήνιο της διάσπασης τη...</td>\n",
              "      <td>2023-05-01T15:29:10+03:00</td>\n",
              "      <td>Γιάννης Ανδρουλιδάκης</td>\n",
              "      <td>Στις 20 Φεβρουαρίου 1933, στην Καγκελαρία του ...</td>\n",
              "    </tr>\n",
              "    <tr>\n",
              "      <th>3</th>\n",
              "      <td>avgi.gr</td>\n",
              "      <td>https://www.avgi.gr/diethni/439671_katadikasti...</td>\n",
              "      <td>ΔΙΕΘΝΗ</td>\n",
              "      <td>Γαλλία / Καταδικάστηκαν δύο γυναίκες που διέδ...</td>\n",
              "      <td>2023-02-15T23:23:05+02:00</td>\n",
              "      <td>Αυγή Newsroom</td>\n",
              "      <td>Δικαστήριο στη Γαλλία καταδίκασε δύο γυναίκες,...</td>\n",
              "    </tr>\n",
              "    <tr>\n",
              "      <th>4</th>\n",
              "      <td>avgi.gr</td>\n",
              "      <td>https://www.avgi.gr/diethni/436979_antiembolia...</td>\n",
              "      <td>ΔΙΕΘΝΗ</td>\n",
              "      <td>Νέα Ζηλανδία / Αντιεμβολιαστές και λόμπι των ...</td>\n",
              "      <td>2023-01-21T16:40:31+02:00</td>\n",
              "      <td>Νίκος Κυριακίδης</td>\n",
              "      <td>Από την πρώτη κιόλας στιγμή της ανάδυσής της σ...</td>\n",
              "    </tr>\n",
              "    <tr>\n",
              "      <th>...</th>\n",
              "      <td>...</td>\n",
              "      <td>...</td>\n",
              "      <td>...</td>\n",
              "      <td>...</td>\n",
              "      <td>...</td>\n",
              "      <td>...</td>\n",
              "      <td>...</td>\n",
              "    </tr>\n",
              "    <tr>\n",
              "      <th>168</th>\n",
              "      <td>avgi.gr</td>\n",
              "      <td>https://www.avgi.gr/arheio/364871_antiembolias...</td>\n",
              "      <td>ΑΡΧΕΙΟ</td>\n",
              "      <td>Αντιεμβολιαστές, ακροδεξιοί και συνωμοσιολόγο...</td>\n",
              "      <td>2020-08-29T09:48:00+03:00</td>\n",
              "      <td>Αυγή Newsroom</td>\n",
              "      <td>Νωρίτερα αυτή την εβδομάδα οι γερμανικές αρχές...</td>\n",
              "    </tr>\n",
              "    <tr>\n",
              "      <th>169</th>\n",
              "      <td>avgi.gr</td>\n",
              "      <td>https://www.avgi.gr/arheio/363853_ypohreotikos...</td>\n",
              "      <td>ΑΡΧΕΙΟ</td>\n",
              "      <td>Υποχρεωτικός θα είναι ο εμβολιασμός κατά του ...</td>\n",
              "      <td>2020-08-19T08:55:00+03:00</td>\n",
              "      <td>Αυγή Newsroom</td>\n",
              "      <td>Οι αρχές της Αυστραλίας αναμένεται να καταστήσ...</td>\n",
              "    </tr>\n",
              "    <tr>\n",
              "      <th>170</th>\n",
              "      <td>avgi.gr</td>\n",
              "      <td>https://www.avgi.gr/entheta/prisma/287180_embo...</td>\n",
              "      <td>ΠΡΙΣΜΑ</td>\n",
              "      <td>Εμβόλια και αντιεμβολιασμός</td>\n",
              "      <td>2018-09-29T19:00:00+03:00</td>\n",
              "      <td>Αυγή Newsroom</td>\n",
              "      <td>Φαίνεται πως, μολονότι πολλές ασθένειες έχουν ...</td>\n",
              "    </tr>\n",
              "    <tr>\n",
              "      <th>171</th>\n",
              "      <td>avgi.gr</td>\n",
              "      <td>https://www.avgi.gr/koinonia/284812_o-arbaniti...</td>\n",
              "      <td>ΚΟΙΝΩΝΙΑ</td>\n",
              "      <td>Ο Αρβανίτης, οι γιατροί και τα εμβόλια</td>\n",
              "      <td>2018-09-06T19:00:00+03:00</td>\n",
              "      <td>Αυγή Newsroom</td>\n",
              "      <td>Σάλος στο Ίντερνετ και τα social media δημιουρ...</td>\n",
              "    </tr>\n",
              "    <tr>\n",
              "      <th>172</th>\n",
              "      <td>avgi.gr</td>\n",
              "      <td>https://www.avgi.gr/arheio/265214_ipa-antiembo...</td>\n",
              "      <td>ΑΡΧΕΙΟ</td>\n",
              "      <td>ΗΠΑ: Το αντιεμβολιαστικό κίνημα αποτελεί σοβα...</td>\n",
              "      <td>2018-01-26T13:37:00+02:00</td>\n",
              "      <td>Αυγή Newsroom</td>\n",
              "      <td>Ο Τζο Ακιούρσο, ένας χειροπράκτης 47 ετών, αρν...</td>\n",
              "    </tr>\n",
              "  </tbody>\n",
              "</table>\n",
              "<p>173 rows × 7 columns</p>\n",
              "</div>\n",
              "      <button class=\"colab-df-convert\" onclick=\"convertToInteractive('df-494b80f7-7da7-428d-a2d2-a736bf2184a1')\"\n",
              "              title=\"Convert this dataframe to an interactive table.\"\n",
              "              style=\"display:none;\">\n",
              "\n",
              "  <svg xmlns=\"http://www.w3.org/2000/svg\" height=\"24px\"viewBox=\"0 0 24 24\"\n",
              "       width=\"24px\">\n",
              "    <path d=\"M0 0h24v24H0V0z\" fill=\"none\"/>\n",
              "    <path d=\"M18.56 5.44l.94 2.06.94-2.06 2.06-.94-2.06-.94-.94-2.06-.94 2.06-2.06.94zm-11 1L8.5 8.5l.94-2.06 2.06-.94-2.06-.94L8.5 2.5l-.94 2.06-2.06.94zm10 10l.94 2.06.94-2.06 2.06-.94-2.06-.94-.94-2.06-.94 2.06-2.06.94z\"/><path d=\"M17.41 7.96l-1.37-1.37c-.4-.4-.92-.59-1.43-.59-.52 0-1.04.2-1.43.59L10.3 9.45l-7.72 7.72c-.78.78-.78 2.05 0 2.83L4 21.41c.39.39.9.59 1.41.59.51 0 1.02-.2 1.41-.59l7.78-7.78 2.81-2.81c.8-.78.8-2.07 0-2.86zM5.41 20L4 18.59l7.72-7.72 1.47 1.35L5.41 20z\"/>\n",
              "  </svg>\n",
              "      </button>\n",
              "\n",
              "\n",
              "\n",
              "    <div id=\"df-fc8dd675-2ba6-40b6-a69f-ecf7e35dd7e5\">\n",
              "      <button class=\"colab-df-quickchart\" onclick=\"quickchart('df-fc8dd675-2ba6-40b6-a69f-ecf7e35dd7e5')\"\n",
              "              title=\"Suggest charts.\"\n",
              "              style=\"display:none;\">\n",
              "\n",
              "<svg xmlns=\"http://www.w3.org/2000/svg\" height=\"24px\"viewBox=\"0 0 24 24\"\n",
              "     width=\"24px\">\n",
              "    <g>\n",
              "        <path d=\"M19 3H5c-1.1 0-2 .9-2 2v14c0 1.1.9 2 2 2h14c1.1 0 2-.9 2-2V5c0-1.1-.9-2-2-2zM9 17H7v-7h2v7zm4 0h-2V7h2v10zm4 0h-2v-4h2v4z\"/>\n",
              "    </g>\n",
              "</svg>\n",
              "      </button>\n",
              "    </div>\n",
              "\n",
              "<style>\n",
              "  .colab-df-quickchart {\n",
              "    background-color: #E8F0FE;\n",
              "    border: none;\n",
              "    border-radius: 50%;\n",
              "    cursor: pointer;\n",
              "    display: none;\n",
              "    fill: #1967D2;\n",
              "    height: 32px;\n",
              "    padding: 0 0 0 0;\n",
              "    width: 32px;\n",
              "  }\n",
              "\n",
              "  .colab-df-quickchart:hover {\n",
              "    background-color: #E2EBFA;\n",
              "    box-shadow: 0px 1px 2px rgba(60, 64, 67, 0.3), 0px 1px 3px 1px rgba(60, 64, 67, 0.15);\n",
              "    fill: #174EA6;\n",
              "  }\n",
              "\n",
              "  [theme=dark] .colab-df-quickchart {\n",
              "    background-color: #3B4455;\n",
              "    fill: #D2E3FC;\n",
              "  }\n",
              "\n",
              "  [theme=dark] .colab-df-quickchart:hover {\n",
              "    background-color: #434B5C;\n",
              "    box-shadow: 0px 1px 3px 1px rgba(0, 0, 0, 0.15);\n",
              "    filter: drop-shadow(0px 1px 2px rgba(0, 0, 0, 0.3));\n",
              "    fill: #FFFFFF;\n",
              "  }\n",
              "</style>\n",
              "\n",
              "    <script>\n",
              "      async function quickchart(key) {\n",
              "        const containerElement = document.querySelector('#' + key);\n",
              "        const charts = await google.colab.kernel.invokeFunction(\n",
              "            'suggestCharts', [key], {});\n",
              "      }\n",
              "    </script>\n",
              "\n",
              "      <script>\n",
              "\n",
              "function displayQuickchartButton(domScope) {\n",
              "  let quickchartButtonEl =\n",
              "    domScope.querySelector('#df-fc8dd675-2ba6-40b6-a69f-ecf7e35dd7e5 button.colab-df-quickchart');\n",
              "  quickchartButtonEl.style.display =\n",
              "    google.colab.kernel.accessAllowed ? 'block' : 'none';\n",
              "}\n",
              "\n",
              "        displayQuickchartButton(document);\n",
              "      </script>\n",
              "      <style>\n",
              "    .colab-df-container {\n",
              "      display:flex;\n",
              "      flex-wrap:wrap;\n",
              "      gap: 12px;\n",
              "    }\n",
              "\n",
              "    .colab-df-convert {\n",
              "      background-color: #E8F0FE;\n",
              "      border: none;\n",
              "      border-radius: 50%;\n",
              "      cursor: pointer;\n",
              "      display: none;\n",
              "      fill: #1967D2;\n",
              "      height: 32px;\n",
              "      padding: 0 0 0 0;\n",
              "      width: 32px;\n",
              "    }\n",
              "\n",
              "    .colab-df-convert:hover {\n",
              "      background-color: #E2EBFA;\n",
              "      box-shadow: 0px 1px 2px rgba(60, 64, 67, 0.3), 0px 1px 3px 1px rgba(60, 64, 67, 0.15);\n",
              "      fill: #174EA6;\n",
              "    }\n",
              "\n",
              "    [theme=dark] .colab-df-convert {\n",
              "      background-color: #3B4455;\n",
              "      fill: #D2E3FC;\n",
              "    }\n",
              "\n",
              "    [theme=dark] .colab-df-convert:hover {\n",
              "      background-color: #434B5C;\n",
              "      box-shadow: 0px 1px 3px 1px rgba(0, 0, 0, 0.15);\n",
              "      filter: drop-shadow(0px 1px 2px rgba(0, 0, 0, 0.3));\n",
              "      fill: #FFFFFF;\n",
              "    }\n",
              "  </style>\n",
              "\n",
              "      <script>\n",
              "        const buttonEl =\n",
              "          document.querySelector('#df-494b80f7-7da7-428d-a2d2-a736bf2184a1 button.colab-df-convert');\n",
              "        buttonEl.style.display =\n",
              "          google.colab.kernel.accessAllowed ? 'block' : 'none';\n",
              "\n",
              "        async function convertToInteractive(key) {\n",
              "          const element = document.querySelector('#df-494b80f7-7da7-428d-a2d2-a736bf2184a1');\n",
              "          const dataTable =\n",
              "            await google.colab.kernel.invokeFunction('convertToInteractive',\n",
              "                                                     [key], {});\n",
              "          if (!dataTable) return;\n",
              "\n",
              "          const docLinkHtml = 'Like what you see? Visit the ' +\n",
              "            '<a target=\"_blank\" href=https://colab.research.google.com/notebooks/data_table.ipynb>data table notebook</a>'\n",
              "            + ' to learn more about interactive tables.';\n",
              "          element.innerHTML = '';\n",
              "          dataTable['output_type'] = 'display_data';\n",
              "          await google.colab.output.renderOutput(dataTable, element);\n",
              "          const docLink = document.createElement('div');\n",
              "          docLink.innerHTML = docLinkHtml;\n",
              "          element.appendChild(docLink);\n",
              "        }\n",
              "      </script>\n",
              "    </div>\n",
              "  </div>\n"
            ]
          },
          "metadata": {},
          "execution_count": 27
        }
      ]
    },
    {
      "cell_type": "code",
      "source": [
        "avgi_full_articles_df.to_csv('/content/temp/avgi_full_articles.csv', index=False)"
      ],
      "metadata": {
        "id": "kEkU01r7LQ_6"
      },
      "execution_count": null,
      "outputs": []
    }
  ]
}