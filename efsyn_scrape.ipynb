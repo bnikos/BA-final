{
  "nbformat": 4,
  "nbformat_minor": 0,
  "metadata": {
    "colab": {
      "provenance": []
    },
    "kernelspec": {
      "name": "python3",
      "display_name": "Python 3"
    },
    "language_info": {
      "name": "python"
    }
  },
  "cells": [
    {
      "cell_type": "code",
      "execution_count": 1,
      "metadata": {
        "id": "X3QUO6rxAKiw"
      },
      "outputs": [],
      "source": [
        "import requests\n",
        "from bs4 import BeautifulSoup\n",
        "import pandas as pd\n",
        "import time\n",
        "import numpy as np\n",
        "import matplotlib.pyplot as plt\n",
        "import spacy\n",
        "import seaborn as sns\n",
        "import nltk\n",
        "from wordcloud import WordCloud\n",
        "from sklearn.feature_extraction.text import TfidfVectorizer\n",
        "from sklearn.metrics.pairwise import cosine_similarity\n",
        "from sklearn.feature_extraction.text import CountVectorizer"
      ]
    },
    {
      "cell_type": "code",
      "source": [
        "!python -m spacy download el_core_news_sm"
      ],
      "metadata": {
        "id": "AoMgoJZDAQ2w"
      },
      "execution_count": null,
      "outputs": []
    },
    {
      "cell_type": "code",
      "source": [
        "nlp = spacy.load('el_core_news_sm')"
      ],
      "metadata": {
        "id": "GzD2lypIAV9K"
      },
      "execution_count": 3,
      "outputs": []
    },
    {
      "cell_type": "code",
      "source": [
        "cv = CountVectorizer(stop_words= list(nlp.Defaults.stop_words), min_df=0.01, max_df=0.95)"
      ],
      "metadata": {
        "id": "JHH6c3fRAeEe"
      },
      "execution_count": 4,
      "outputs": []
    },
    {
      "cell_type": "code",
      "source": [
        "start_page = 0\n",
        "end_page = 18\n",
        "\n",
        "start_url = 'https://www.efsyn.gr/search?keywords=%CE%B1%CE%BD%CF%84%CE%B9%CE%B5%CE%BC%CE%B2%CE%BF%CE%BB%CE%B9%CE%B1%CF%83%CF%84%CE%AD%CF%82&field_category=All&field_author=All&field_anonymous_author=&created%5B0%5D=&created%5B1%5D=&sort_by=created&page='\n",
        "\n",
        "test_url = start_url + str(start_page)\n",
        "\n",
        "test_url"
      ],
      "metadata": {
        "id": "b9nzTPBgG6Xu",
        "colab": {
          "base_uri": "https://localhost:8080/",
          "height": 53
        },
        "outputId": "93455460-c0a0-4988-9e4a-1928ba00a34c"
      },
      "execution_count": 5,
      "outputs": [
        {
          "output_type": "execute_result",
          "data": {
            "text/plain": [
              "'https://www.efsyn.gr/search?keywords=%CE%B1%CE%BD%CF%84%CE%B9%CE%B5%CE%BC%CE%B2%CE%BF%CE%BB%CE%B9%CE%B1%CF%83%CF%84%CE%AD%CF%82&field_category=All&field_author=All&field_anonymous_author=&created%5B0%5D=&created%5B1%5D=&sort_by=created&page=0'"
            ],
            "application/vnd.google.colaboratory.intrinsic+json": {
              "type": "string"
            }
          },
          "metadata": {},
          "execution_count": 5
        }
      ]
    },
    {
      "cell_type": "code",
      "source": [
        "response = requests.get(test_url)\n",
        "doc = BeautifulSoup(response.text, 'html.parser')"
      ],
      "metadata": {
        "id": "cXTcNCGe5j5b"
      },
      "execution_count": 6,
      "outputs": []
    },
    {
      "cell_type": "code",
      "source": [
        "teaser_articles_list = doc.find('div', {'class':'default-teaser triple'}).find_all('article')"
      ],
      "metadata": {
        "id": "g8xhJLXe6QiV"
      },
      "execution_count": 7,
      "outputs": []
    },
    {
      "cell_type": "code",
      "source": [
        "teaser_articles_list"
      ],
      "metadata": {
        "id": "RSvNFsTv67c9"
      },
      "execution_count": null,
      "outputs": []
    },
    {
      "cell_type": "code",
      "source": [
        "link = teaser_articles_list[0].find('a', {'class': 'full-link'})['href']\n",
        "\n",
        "link"
      ],
      "metadata": {
        "colab": {
          "base_uri": "https://localhost:8080/",
          "height": 36
        },
        "id": "pnfZdApY7CGJ",
        "outputId": "548d3dc4-2351-4d9f-cd34-c305b47c72ff"
      },
      "execution_count": 9,
      "outputs": [
        {
          "output_type": "execute_result",
          "data": {
            "text/plain": [
              "'/stiles/apopseis/396023_ah-ellada-sagapo'"
            ],
            "application/vnd.google.colaboratory.intrinsic+json": {
              "type": "string"
            }
          },
          "metadata": {},
          "execution_count": 9
        }
      ]
    },
    {
      "cell_type": "code",
      "source": [
        "main_url = 'https://www.efsyn.gr'\n",
        "article_link = main_url + link\n",
        "print(article_link)"
      ],
      "metadata": {
        "colab": {
          "base_uri": "https://localhost:8080/"
        },
        "id": "ssS0GQEB7pZ5",
        "outputId": "ea3266da-751b-4d77-c35b-bf0f33fff614"
      },
      "execution_count": 10,
      "outputs": [
        {
          "output_type": "stream",
          "name": "stdout",
          "text": [
            "https://www.efsyn.gr/stiles/apopseis/396023_ah-ellada-sagapo\n"
          ]
        }
      ]
    },
    {
      "cell_type": "code",
      "source": [
        "teasers_list = []\n",
        "\n",
        "for page_num in range(start_page, end_page+1):\n",
        "  page_url = start_url + str(page_num)\n",
        "  response = requests.get(page_url)\n",
        "  doc = BeautifulSoup(response.text, 'html.parser')\n",
        "\n",
        "  #*** ΔΩΣΤΕ ΤΗ ΔΙΚΗ ΣΑΣ ΤΙΜΗ στo teaser_articles_list***\n",
        "  teaser_articles_list = doc.find('div', {'class':'default-teaser triple'}).find_all('article')\n",
        "\n",
        "\n",
        "  for teaser in teaser_articles_list:\n",
        "      story_dict = {}\n",
        "      try:\n",
        "\n",
        "        #*** ΔΩΣΤΕ ΤΗ ΔΙΚΗ ΣΑΣ ΤΙΜΗ στο link, ΜΕΤΑ το teaser\n",
        "        link = teaser.find('a', {'class': 'full-link'})['href']\n",
        "\n",
        "\n",
        "        if link.startswith(\"http\"):\n",
        "          story_dict['url'] = link\n",
        "        else:\n",
        "          story_dict['url'] = main_url + link\n",
        "      except:\n",
        "        story_dict['url'] = ''\n",
        "        pass\n",
        "      teasers_list.append(story_dict)\n",
        "  time.sleep(1)"
      ],
      "metadata": {
        "id": "75Ot0ggH71mA"
      },
      "execution_count": 11,
      "outputs": []
    },
    {
      "cell_type": "code",
      "source": [
        "efsyn_teasers_df = pd.DataFrame(teasers_list)\n",
        "efsyn_teasers_df"
      ],
      "metadata": {
        "colab": {
          "base_uri": "https://localhost:8080/",
          "height": 423
        },
        "id": "SDleUOZv85V7",
        "outputId": "75dcf3af-e864-44e6-a80c-dec269c4229f"
      },
      "execution_count": 12,
      "outputs": [
        {
          "output_type": "execute_result",
          "data": {
            "text/plain": [
              "                                                   url\n",
              "0    https://www.efsyn.gr/stiles/apopseis/396023_ah...\n",
              "1    https://www.efsyn.gr/themata/thema-tis-efsyn/3...\n",
              "2    https://www.efsyn.gr/tehnes/media/386894_ta-me...\n",
              "3    https://www.efsyn.gr/stiles/apopseis/384306_mi...\n",
              "4    https://www.efsyn.gr/kosmos/eyropi/370145_akro...\n",
              "..                                                 ...\n",
              "223  https://www.efsyn.gr/themata/thema-tis-efsyn/2...\n",
              "224  https://www.efsyn.gr/efsyn-city/synenteyxeis/2...\n",
              "225  https://www.efsyn.gr/ellada/ygeia/220057_i-omo...\n",
              "226  https://www.efsyn.gr/efsyn-city/synenteyxeis/2...\n",
              "227  https://www.efsyn.gr/epistimi/iatrika-themata/...\n",
              "\n",
              "[228 rows x 1 columns]"
            ],
            "text/html": [
              "\n",
              "\n",
              "  <div id=\"df-17854880-c475-48f0-9178-3d21e0f3432c\">\n",
              "    <div class=\"colab-df-container\">\n",
              "      <div>\n",
              "<style scoped>\n",
              "    .dataframe tbody tr th:only-of-type {\n",
              "        vertical-align: middle;\n",
              "    }\n",
              "\n",
              "    .dataframe tbody tr th {\n",
              "        vertical-align: top;\n",
              "    }\n",
              "\n",
              "    .dataframe thead th {\n",
              "        text-align: right;\n",
              "    }\n",
              "</style>\n",
              "<table border=\"1\" class=\"dataframe\">\n",
              "  <thead>\n",
              "    <tr style=\"text-align: right;\">\n",
              "      <th></th>\n",
              "      <th>url</th>\n",
              "    </tr>\n",
              "  </thead>\n",
              "  <tbody>\n",
              "    <tr>\n",
              "      <th>0</th>\n",
              "      <td>https://www.efsyn.gr/stiles/apopseis/396023_ah...</td>\n",
              "    </tr>\n",
              "    <tr>\n",
              "      <th>1</th>\n",
              "      <td>https://www.efsyn.gr/themata/thema-tis-efsyn/3...</td>\n",
              "    </tr>\n",
              "    <tr>\n",
              "      <th>2</th>\n",
              "      <td>https://www.efsyn.gr/tehnes/media/386894_ta-me...</td>\n",
              "    </tr>\n",
              "    <tr>\n",
              "      <th>3</th>\n",
              "      <td>https://www.efsyn.gr/stiles/apopseis/384306_mi...</td>\n",
              "    </tr>\n",
              "    <tr>\n",
              "      <th>4</th>\n",
              "      <td>https://www.efsyn.gr/kosmos/eyropi/370145_akro...</td>\n",
              "    </tr>\n",
              "    <tr>\n",
              "      <th>...</th>\n",
              "      <td>...</td>\n",
              "    </tr>\n",
              "    <tr>\n",
              "      <th>223</th>\n",
              "      <td>https://www.efsyn.gr/themata/thema-tis-efsyn/2...</td>\n",
              "    </tr>\n",
              "    <tr>\n",
              "      <th>224</th>\n",
              "      <td>https://www.efsyn.gr/efsyn-city/synenteyxeis/2...</td>\n",
              "    </tr>\n",
              "    <tr>\n",
              "      <th>225</th>\n",
              "      <td>https://www.efsyn.gr/ellada/ygeia/220057_i-omo...</td>\n",
              "    </tr>\n",
              "    <tr>\n",
              "      <th>226</th>\n",
              "      <td>https://www.efsyn.gr/efsyn-city/synenteyxeis/2...</td>\n",
              "    </tr>\n",
              "    <tr>\n",
              "      <th>227</th>\n",
              "      <td>https://www.efsyn.gr/epistimi/iatrika-themata/...</td>\n",
              "    </tr>\n",
              "  </tbody>\n",
              "</table>\n",
              "<p>228 rows × 1 columns</p>\n",
              "</div>\n",
              "      <button class=\"colab-df-convert\" onclick=\"convertToInteractive('df-17854880-c475-48f0-9178-3d21e0f3432c')\"\n",
              "              title=\"Convert this dataframe to an interactive table.\"\n",
              "              style=\"display:none;\">\n",
              "\n",
              "  <svg xmlns=\"http://www.w3.org/2000/svg\" height=\"24px\"viewBox=\"0 0 24 24\"\n",
              "       width=\"24px\">\n",
              "    <path d=\"M0 0h24v24H0V0z\" fill=\"none\"/>\n",
              "    <path d=\"M18.56 5.44l.94 2.06.94-2.06 2.06-.94-2.06-.94-.94-2.06-.94 2.06-2.06.94zm-11 1L8.5 8.5l.94-2.06 2.06-.94-2.06-.94L8.5 2.5l-.94 2.06-2.06.94zm10 10l.94 2.06.94-2.06 2.06-.94-2.06-.94-.94-2.06-.94 2.06-2.06.94z\"/><path d=\"M17.41 7.96l-1.37-1.37c-.4-.4-.92-.59-1.43-.59-.52 0-1.04.2-1.43.59L10.3 9.45l-7.72 7.72c-.78.78-.78 2.05 0 2.83L4 21.41c.39.39.9.59 1.41.59.51 0 1.02-.2 1.41-.59l7.78-7.78 2.81-2.81c.8-.78.8-2.07 0-2.86zM5.41 20L4 18.59l7.72-7.72 1.47 1.35L5.41 20z\"/>\n",
              "  </svg>\n",
              "      </button>\n",
              "\n",
              "\n",
              "\n",
              "    <div id=\"df-d0136167-32da-4daf-8e7d-1d6abb4f5234\">\n",
              "      <button class=\"colab-df-quickchart\" onclick=\"quickchart('df-d0136167-32da-4daf-8e7d-1d6abb4f5234')\"\n",
              "              title=\"Suggest charts.\"\n",
              "              style=\"display:none;\">\n",
              "\n",
              "<svg xmlns=\"http://www.w3.org/2000/svg\" height=\"24px\"viewBox=\"0 0 24 24\"\n",
              "     width=\"24px\">\n",
              "    <g>\n",
              "        <path d=\"M19 3H5c-1.1 0-2 .9-2 2v14c0 1.1.9 2 2 2h14c1.1 0 2-.9 2-2V5c0-1.1-.9-2-2-2zM9 17H7v-7h2v7zm4 0h-2V7h2v10zm4 0h-2v-4h2v4z\"/>\n",
              "    </g>\n",
              "</svg>\n",
              "      </button>\n",
              "    </div>\n",
              "\n",
              "<style>\n",
              "  .colab-df-quickchart {\n",
              "    background-color: #E8F0FE;\n",
              "    border: none;\n",
              "    border-radius: 50%;\n",
              "    cursor: pointer;\n",
              "    display: none;\n",
              "    fill: #1967D2;\n",
              "    height: 32px;\n",
              "    padding: 0 0 0 0;\n",
              "    width: 32px;\n",
              "  }\n",
              "\n",
              "  .colab-df-quickchart:hover {\n",
              "    background-color: #E2EBFA;\n",
              "    box-shadow: 0px 1px 2px rgba(60, 64, 67, 0.3), 0px 1px 3px 1px rgba(60, 64, 67, 0.15);\n",
              "    fill: #174EA6;\n",
              "  }\n",
              "\n",
              "  [theme=dark] .colab-df-quickchart {\n",
              "    background-color: #3B4455;\n",
              "    fill: #D2E3FC;\n",
              "  }\n",
              "\n",
              "  [theme=dark] .colab-df-quickchart:hover {\n",
              "    background-color: #434B5C;\n",
              "    box-shadow: 0px 1px 3px 1px rgba(0, 0, 0, 0.15);\n",
              "    filter: drop-shadow(0px 1px 2px rgba(0, 0, 0, 0.3));\n",
              "    fill: #FFFFFF;\n",
              "  }\n",
              "</style>\n",
              "\n",
              "    <script>\n",
              "      async function quickchart(key) {\n",
              "        const containerElement = document.querySelector('#' + key);\n",
              "        const charts = await google.colab.kernel.invokeFunction(\n",
              "            'suggestCharts', [key], {});\n",
              "      }\n",
              "    </script>\n",
              "\n",
              "      <script>\n",
              "\n",
              "function displayQuickchartButton(domScope) {\n",
              "  let quickchartButtonEl =\n",
              "    domScope.querySelector('#df-d0136167-32da-4daf-8e7d-1d6abb4f5234 button.colab-df-quickchart');\n",
              "  quickchartButtonEl.style.display =\n",
              "    google.colab.kernel.accessAllowed ? 'block' : 'none';\n",
              "}\n",
              "\n",
              "        displayQuickchartButton(document);\n",
              "      </script>\n",
              "      <style>\n",
              "    .colab-df-container {\n",
              "      display:flex;\n",
              "      flex-wrap:wrap;\n",
              "      gap: 12px;\n",
              "    }\n",
              "\n",
              "    .colab-df-convert {\n",
              "      background-color: #E8F0FE;\n",
              "      border: none;\n",
              "      border-radius: 50%;\n",
              "      cursor: pointer;\n",
              "      display: none;\n",
              "      fill: #1967D2;\n",
              "      height: 32px;\n",
              "      padding: 0 0 0 0;\n",
              "      width: 32px;\n",
              "    }\n",
              "\n",
              "    .colab-df-convert:hover {\n",
              "      background-color: #E2EBFA;\n",
              "      box-shadow: 0px 1px 2px rgba(60, 64, 67, 0.3), 0px 1px 3px 1px rgba(60, 64, 67, 0.15);\n",
              "      fill: #174EA6;\n",
              "    }\n",
              "\n",
              "    [theme=dark] .colab-df-convert {\n",
              "      background-color: #3B4455;\n",
              "      fill: #D2E3FC;\n",
              "    }\n",
              "\n",
              "    [theme=dark] .colab-df-convert:hover {\n",
              "      background-color: #434B5C;\n",
              "      box-shadow: 0px 1px 3px 1px rgba(0, 0, 0, 0.15);\n",
              "      filter: drop-shadow(0px 1px 2px rgba(0, 0, 0, 0.3));\n",
              "      fill: #FFFFFF;\n",
              "    }\n",
              "  </style>\n",
              "\n",
              "      <script>\n",
              "        const buttonEl =\n",
              "          document.querySelector('#df-17854880-c475-48f0-9178-3d21e0f3432c button.colab-df-convert');\n",
              "        buttonEl.style.display =\n",
              "          google.colab.kernel.accessAllowed ? 'block' : 'none';\n",
              "\n",
              "        async function convertToInteractive(key) {\n",
              "          const element = document.querySelector('#df-17854880-c475-48f0-9178-3d21e0f3432c');\n",
              "          const dataTable =\n",
              "            await google.colab.kernel.invokeFunction('convertToInteractive',\n",
              "                                                     [key], {});\n",
              "          if (!dataTable) return;\n",
              "\n",
              "          const docLinkHtml = 'Like what you see? Visit the ' +\n",
              "            '<a target=\"_blank\" href=https://colab.research.google.com/notebooks/data_table.ipynb>data table notebook</a>'\n",
              "            + ' to learn more about interactive tables.';\n",
              "          element.innerHTML = '';\n",
              "          dataTable['output_type'] = 'display_data';\n",
              "          await google.colab.output.renderOutput(dataTable, element);\n",
              "          const docLink = document.createElement('div');\n",
              "          docLink.innerHTML = docLinkHtml;\n",
              "          element.appendChild(docLink);\n",
              "        }\n",
              "      </script>\n",
              "    </div>\n",
              "  </div>\n"
            ]
          },
          "metadata": {},
          "execution_count": 12
        }
      ]
    },
    {
      "cell_type": "code",
      "source": [
        "efsyn_teasers_df.to_csv('/content/temp/efsyn_teasers.csv', index=False)"
      ],
      "metadata": {
        "id": "TRdgjzSP9KlD"
      },
      "execution_count": 13,
      "outputs": []
    },
    {
      "cell_type": "code",
      "source": [
        "article_url = 'https://www.efsyn.gr/stiles/apopseis/296867_titloi-teloys-kai-arhis'"
      ],
      "metadata": {
        "id": "JaTxiNIc_FMW"
      },
      "execution_count": 14,
      "outputs": []
    },
    {
      "cell_type": "code",
      "source": [
        "response = requests.get(article_url)\n",
        "doc = BeautifulSoup(response.text, 'html.parser')"
      ],
      "metadata": {
        "id": "NRa3S5Vz_PH8"
      },
      "execution_count": 15,
      "outputs": []
    },
    {
      "cell_type": "code",
      "source": [
        "article = doc.find('section', {'class': 'article__main'})"
      ],
      "metadata": {
        "id": "t4bzFM_xu5jd"
      },
      "execution_count": 16,
      "outputs": []
    },
    {
      "cell_type": "code",
      "source": [
        "section = doc.find('a', {'class': 'article__category'}).text\n",
        "section"
      ],
      "metadata": {
        "colab": {
          "base_uri": "https://localhost:8080/",
          "height": 36
        },
        "id": "Kkoiq1rH_0_a",
        "outputId": "5c2797f8-7110-450e-f56e-993156fc58be"
      },
      "execution_count": 17,
      "outputs": [
        {
          "output_type": "execute_result",
          "data": {
            "text/plain": [
              "'ΑΠΟΨΕΙΣ'"
            ],
            "application/vnd.google.colaboratory.intrinsic+json": {
              "type": "string"
            }
          },
          "metadata": {},
          "execution_count": 17
        }
      ]
    },
    {
      "cell_type": "code",
      "source": [
        "title = article.find('h1').text\n",
        "title"
      ],
      "metadata": {
        "colab": {
          "base_uri": "https://localhost:8080/",
          "height": 36
        },
        "id": "Ku5RmGzQ_4AA",
        "outputId": "84c0dfa1-e447-4999-e60d-f0bb85ad968c"
      },
      "execution_count": 18,
      "outputs": [
        {
          "output_type": "execute_result",
          "data": {
            "text/plain": [
              "'Τίτλοι τέλους και αρχής'"
            ],
            "application/vnd.google.colaboratory.intrinsic+json": {
              "type": "string"
            }
          },
          "metadata": {},
          "execution_count": 18
        }
      ]
    },
    {
      "cell_type": "code",
      "source": [
        "date = article.find('time')['datetime']\n",
        "date"
      ],
      "metadata": {
        "colab": {
          "base_uri": "https://localhost:8080/",
          "height": 36
        },
        "id": "Gckm7ACUAQ-0",
        "outputId": "20f9dcef-a6cb-4c37-fb9a-1b2b4be6eac1"
      },
      "execution_count": 19,
      "outputs": [
        {
          "output_type": "execute_result",
          "data": {
            "text/plain": [
              "'2021-06-03 16:00'"
            ],
            "application/vnd.google.colaboratory.intrinsic+json": {
              "type": "string"
            }
          },
          "metadata": {},
          "execution_count": 19
        }
      ]
    },
    {
      "cell_type": "code",
      "source": [
        "author = article.find('div', {'class', \"article__author\"}).span.text\n",
        "author"
      ],
      "metadata": {
        "colab": {
          "base_uri": "https://localhost:8080/",
          "height": 36
        },
        "id": "xew_z0RHAWNN",
        "outputId": "1a3eafbd-f04b-4be1-ab49-b3ecb1e0d495"
      },
      "execution_count": 20,
      "outputs": [
        {
          "output_type": "execute_result",
          "data": {
            "text/plain": [
              "' Μαρία Μαθιουδάκη* '"
            ],
            "application/vnd.google.colaboratory.intrinsic+json": {
              "type": "string"
            }
          },
          "metadata": {},
          "execution_count": 20
        }
      ]
    },
    {
      "cell_type": "code",
      "source": [
        "paragraphs = article.find_all('p')\n",
        "paragraphs"
      ],
      "metadata": {
        "colab": {
          "base_uri": "https://localhost:8080/"
        },
        "id": "02mmHuVFAZpS",
        "outputId": "16af1809-7599-4301-b98b-0a31d0fbc993"
      },
      "execution_count": 21,
      "outputs": [
        {
          "output_type": "execute_result",
          "data": {
            "text/plain": [
              "[<p title=\"Τίτλος\">Πλησιάζει άραγε η αρχή του τέλους του διαχωρισμού των ανθρώπων; Κι αν ναι, αυτή είναι η αισιόδοξη ή η απαισιόδοξη οπτική; Κάθε εποχή και διαφορετικοί διαχωρισμοί: πλούσιοι - φτωχοί, βενιζελικοί - βασιλικοί, δεξιοί - αριστεροί, κόκκινοι - πράσινοι - μπλε και ασπρόμαυροι, εμπορικοί - ποιοτικοί. Τώρα, εμβολιασμένοι - ανεμβολίαστοι. Και οι διαμάχες καλά κρατούν.</p>,\n",
              " <p title=\"Κείμενο (2)\">Κάποιοι, πλέον, για να μη μιλήσουν για διαχωρισμούς, κρύβουν τους λόγους τους πίσω από την έννοια των «επιλογών». Ολα είναι επιλογές, λένε. Κάποιοι σε μια αλλαγή της κατάστασης επιλέγουν να γυρίσουν τα φυλλαράκια τους προς τον ήλιο και να εξελιχθούν, ενώ άλλοι δεν μπορούν να αντέξουν στο ξεβόλεμα και μαραζώνουν. Ομως κι αυτή η θεωρία δεν εμπεριέχει τον μεγαλύτερο διαχωρισμό; Οι ανθεκτικοί και οι αποφασιστικοί πάντοτε θα έχουν το προτέρημα σε έναν κόσμο όπου το μέλλον μας καθορίζεται από την τοποθεσία όπου «ανθίζει» ο καθένας.</p>,\n",
              " <p title=\"Κείμενο (3)\">Κι αν σε ξεριζώσουν; Τι κάνεις; Εδώ η θεωρία της επιλογής πέφτει σε τοίχο. Αν είσαι παιδάκι 5 χρόνων και αναγκάζεσαι να φύγεις από τον τόπο σου; Τα μπουμπούκια άραγε ριζώνουν πιο εύκολα σε νέο περιβάλλον από τα πιο ώριμα φυτά; Ή μαραίνονται πριν καν ανοίξουν τα πέταλά τους;</p>,\n",
              " <p title=\"Κείμενο (4)\">Δεν είναι όλα θέμα επιλογών. Και οι διαμάχες και οι διαχωρισμοί για τα μεγάλα και τα μικρά είναι πολύ πιθανό να μην εκλείψουν ποτέ. Το ζήτημα είναι να εκλείψουν οι αιτίες που τα γεννούν: η ημιμάθεια, ο φανατισμός και η μισαλλοδοξία. Πολλοί διατείνονται πως αυτή η εποχή, με την επανάσταση της επιστήμης και την αίσθηση ότι είμαστε όλοι ίσοι απέναντι σε μια τόσο δυσάρεστη συνθήκη όπως είναι η πανδημία, είναι η κατάλληλη για να εξαφανιστούν αυτές οι αιτίες. Οι πιο ρεαλιστές θα πουν πως οι αιτίες αυτές πάντα θα βρίσκουν χώρο να υπάρχουν μέσα στις σημερινές κοινωνίες. Το θέμα είναι να μην ποδοπατήσουμε όσους πέσουν κάποια στιγμή από τα σύννεφα. Αυτή θα είναι μια καλή αρχή για την αλλαγή της νοοτροπίας μας.</p>,\n",
              " <p title=\"Κείμενο (5)\">Το δυστύχημα είναι πως, ενώ μιλάμε για την αρχή του τέλους μια εποχής, προοιωνιζόμαστε και την καταστροφή της επόμενης, προσπαθώντας να τη σώσουμε από τα ίδια λάθη. Ενας φόβος για το μέλλον που μας κάνει να ξεχνάμε το παρόν. Αλλά η αλλαγή που θέλει ο καθένας μας θα έρθει τώρα, όχι πατώντας έναν διακόπτη, ούτε βλέποντας μπροστά μας τους τίτλους του τέλους ώστε να κάνουμε την επανεκκίνηση που όλοι επιθυμούμε. Τώρα. Αυτό το δευτερόλεπτο είναι οι τίτλοι αρχής και τέλους. Δεν είναι ζήτημα ούτε επιλογής ούτε διαχωρισμού. Είναι ζήτημα επιβίωσης και συμβίωσης.</p>,\n",
              " <p title=\"Κείμενο (6)\"><em>* πολιτικός επιστήμονας, τραγουδοποιός</em></p>]"
            ]
          },
          "metadata": {},
          "execution_count": 21
        }
      ]
    },
    {
      "cell_type": "code",
      "source": [
        "p_texts_list = []                      # δημιουργία κενής λίστας για να αποθηκεύσουμε το text κάθε παραγράφου\n",
        "paragraphs = article.find_all('p')     # λίστα με όλες τις παραγράφους\n",
        "for p in paragraphs:                   # για κάθε μια από τις παραγράφους στη λίστα\n",
        "  p_texts_list.append(p.text)          # πάρε το .text και πρόσθεσέ το στη λίστα με τα texts των παραγράφων\n",
        "full_text = ' '.join(p_texts_list)     # συνένωση των texts των παραγράφων\n",
        "full_text = \"\".join(full_text.splitlines())\n",
        "full_text"
      ],
      "metadata": {
        "colab": {
          "base_uri": "https://localhost:8080/",
          "height": 140
        },
        "id": "8DazI9UFAgH3",
        "outputId": "7f381017-5474-4b4e-ba45-503d6a8ca2d1"
      },
      "execution_count": 22,
      "outputs": [
        {
          "output_type": "execute_result",
          "data": {
            "text/plain": [
              "'Πλησιάζει άραγε η αρχή του τέλους του διαχωρισμού των ανθρώπων; Κι αν ναι, αυτή είναι η αισιόδοξη ή η απαισιόδοξη οπτική; Κάθε εποχή και διαφορετικοί διαχωρισμοί: πλούσιοι - φτωχοί, βενιζελικοί - βασιλικοί, δεξιοί - αριστεροί, κόκκινοι - πράσινοι - μπλε και ασπρόμαυροι, εμπορικοί - ποιοτικοί. Τώρα, εμβολιασμένοι - ανεμβολίαστοι. Και οι διαμάχες καλά κρατούν. Κάποιοι, πλέον, για να μη μιλήσουν για διαχωρισμούς, κρύβουν τους λόγους τους πίσω από την έννοια των «επιλογών». Ολα είναι επιλογές, λένε. Κάποιοι σε μια αλλαγή της κατάστασης επιλέγουν να γυρίσουν τα φυλλαράκια τους προς τον ήλιο και να εξελιχθούν, ενώ άλλοι δεν μπορούν να αντέξουν στο ξεβόλεμα και μαραζώνουν. Ομως κι αυτή η θεωρία δεν εμπεριέχει τον μεγαλύτερο διαχωρισμό; Οι ανθεκτικοί και οι αποφασιστικοί πάντοτε θα έχουν το προτέρημα σε έναν κόσμο όπου το μέλλον μας καθορίζεται από την τοποθεσία όπου «ανθίζει» ο καθένας. Κι αν σε ξεριζώσουν; Τι κάνεις; Εδώ η θεωρία της επιλογής πέφτει σε τοίχο. Αν είσαι παιδάκι 5 χρόνων και αναγκάζεσαι να φύγεις από τον τόπο σου; Τα μπουμπούκια άραγε ριζώνουν πιο εύκολα σε νέο περιβάλλον από τα πιο ώριμα φυτά; Ή μαραίνονται πριν καν ανοίξουν τα πέταλά τους; Δεν είναι όλα θέμα επιλογών. Και οι διαμάχες και οι διαχωρισμοί για τα μεγάλα και τα μικρά είναι πολύ πιθανό να μην εκλείψουν ποτέ. Το ζήτημα είναι να εκλείψουν οι αιτίες που τα γεννούν: η ημιμάθεια, ο φανατισμός και η μισαλλοδοξία. Πολλοί διατείνονται πως αυτή η εποχή, με την επανάσταση της επιστήμης και την αίσθηση ότι είμαστε όλοι ίσοι απέναντι σε μια τόσο δυσάρεστη συνθήκη όπως είναι η πανδημία, είναι η κατάλληλη για να εξαφανιστούν αυτές οι αιτίες. Οι πιο ρεαλιστές θα πουν πως οι αιτίες αυτές πάντα θα βρίσκουν χώρο να υπάρχουν μέσα στις σημερινές κοινωνίες. Το θέμα είναι να μην ποδοπατήσουμε όσους πέσουν κάποια στιγμή από τα σύννεφα. Αυτή θα είναι μια καλή αρχή για την αλλαγή της νοοτροπίας μας. Το δυστύχημα είναι πως, ενώ μιλάμε για την αρχή του τέλους μια εποχής, προοιωνιζόμαστε και την καταστροφή της επόμενης, προσπαθώντας να τη σώσουμε από τα ίδια λάθη. Ενας φόβος για το μέλλον που μας κάνει να ξεχνάμε το παρόν. Αλλά η αλλαγή που θέλει ο καθένας μας θα έρθει τώρα, όχι πατώντας έναν διακόπτη, ούτε βλέποντας μπροστά μας τους τίτλους του τέλους ώστε να κάνουμε την επανεκκίνηση που όλοι επιθυμούμε. Τώρα. Αυτό το δευτερόλεπτο είναι οι τίτλοι αρχής και τέλους. Δεν είναι ζήτημα ούτε επιλογής ούτε διαχωρισμού. Είναι ζήτημα επιβίωσης και συμβίωσης. * πολιτικός επιστήμονας, τραγουδοποιός'"
            ],
            "application/vnd.google.colaboratory.intrinsic+json": {
              "type": "string"
            }
          },
          "metadata": {},
          "execution_count": 22
        }
      ]
    },
    {
      "cell_type": "code",
      "source": [
        "full_articles_list = []\n",
        "\n",
        "for article_url in efsyn_teasers_df['url']:\n",
        "  response = requests.get(article_url)\n",
        "  doc = BeautifulSoup(response.text, 'html.parser')\n",
        "\n",
        "  #*** ΔΩΣΤΕ ΤΗ ΔΙΚΗ ΣΑΣ ΤΙΜΗ στo article που βρήκατε παραπάνω***\n",
        "  article = doc.find('section', {'class': 'article__main'})\n",
        "\n",
        "  full_article_dict = {}\n",
        "\n",
        "  # website\n",
        "  full_article_dict['site'] = \"efsyn.gr\"\n",
        "\n",
        "  # url\n",
        "  full_article_dict['url'] = article_url\n",
        "\n",
        "  #section\n",
        "  try:\n",
        "    section = doc.find('a', {'class': 'article__category'}).text\n",
        "    full_article_dict['section'] = section\n",
        "  except:\n",
        "    full_article_dict['section'] = ''\n",
        "    pass\n",
        "\n",
        "  #title\n",
        "  try:\n",
        "    title = title = article.find('h1').text\n",
        "    full_article_dict['title'] = title\n",
        "  except:\n",
        "    full_article_dict['title'] = ''\n",
        "    pass\n",
        "\n",
        "  # date\n",
        "  try:\n",
        "    date = article.find('time')['datetime']\n",
        "    full_article_dict['date'] = date\n",
        "  except:\n",
        "    full_article_dict['date'] = ''\n",
        "    pass\n",
        "\n",
        "  # author\n",
        "  try:\n",
        "    author = article.find('div', {'class', \"article__author\"}).span.text\n",
        "    full_article_dict['author'] = author\n",
        "  except:\n",
        "    full_article_dict['author'] = ''\n",
        "    pass\n",
        "\n",
        "  # full_text\n",
        "  try:\n",
        "    p_texts_list = []\n",
        "    paragraphs = article.find_all('p')\n",
        "    for p in paragraphs:\n",
        "      p_texts_list.append(p.text)\n",
        "    full_text = ' '.join(p_texts_list)\n",
        "    full_text = \"\".join(full_text.splitlines())\n",
        "    full_article_dict['full_text'] = full_text\n",
        "  except:\n",
        "    full_article_dict['full_text'] = ''\n",
        "    pass\n",
        "\n",
        "  full_articles_list.append(full_article_dict)\n",
        "  time.sleep(1)"
      ],
      "metadata": {
        "id": "vvqAM3oaAwu9"
      },
      "execution_count": 23,
      "outputs": []
    },
    {
      "cell_type": "code",
      "source": [
        "efsyn_full_articles_df = pd.DataFrame(full_articles_list)\n",
        "efsyn_full_articles_df"
      ],
      "metadata": {
        "id": "MVAfVmPSIO7T",
        "colab": {
          "base_uri": "https://localhost:8080/",
          "height": 832
        },
        "outputId": "79387c9c-77ee-4e2b-ec95-f099bf0865e5"
      },
      "execution_count": 24,
      "outputs": [
        {
          "output_type": "execute_result",
          "data": {
            "text/plain": [
              "         site                                                url  \\\n",
              "0    efsyn.gr  https://www.efsyn.gr/stiles/apopseis/396023_ah...   \n",
              "1    efsyn.gr  https://www.efsyn.gr/themata/thema-tis-efsyn/3...   \n",
              "2    efsyn.gr  https://www.efsyn.gr/tehnes/media/386894_ta-me...   \n",
              "3    efsyn.gr  https://www.efsyn.gr/stiles/apopseis/384306_mi...   \n",
              "4    efsyn.gr  https://www.efsyn.gr/kosmos/eyropi/370145_akro...   \n",
              "..        ...                                                ...   \n",
              "223  efsyn.gr  https://www.efsyn.gr/themata/thema-tis-efsyn/2...   \n",
              "224  efsyn.gr  https://www.efsyn.gr/efsyn-city/synenteyxeis/2...   \n",
              "225  efsyn.gr  https://www.efsyn.gr/ellada/ygeia/220057_i-omo...   \n",
              "226  efsyn.gr  https://www.efsyn.gr/efsyn-city/synenteyxeis/2...   \n",
              "227  efsyn.gr  https://www.efsyn.gr/epistimi/iatrika-themata/...   \n",
              "\n",
              "                   section                                              title  \\\n",
              "0                  ΑΠΟΨΕΙΣ                                  Αχ Ελλάδα σ᾽αγαπώ   \n",
              "1    ΤΟ ΘΕΜΑ ΤΗΣ «ΕΦ.ΣΥΝ.»  Η μαύρη βίβλος για τα δικαιώματα - Έργα και ημ...   \n",
              "2                    MEDIA  Τα μέσα κοινωνικής δικτύωσης δεν είναι μια «ει...   \n",
              "3                  ΑΠΟΨΕΙΣ                      Μια περίεργη σύμπτωση απόψεων   \n",
              "4                   ΕΥΡΩΠΗ       Ακροδεξιοί τρομοκράτες ετοίμαζαν πραξικόπημα   \n",
              "..                     ...                                                ...   \n",
              "223  ΤΟ ΘΕΜΑ ΤΗΣ «ΕΦ.ΣΥΝ.»  Ευεξία, ομορφιά και «ευ ζην» στην πανδημία: η ...   \n",
              "224           ΣΥΝΕΝΤΕΥΞΕΙΣ  Στ. Ανατολίτης: Το χιούμορ δεν έχει ηθική πυξί...   \n",
              "225                  ΥΓΕΙΑ  «Η ομοιοπαθητική δεν είναι πολυτέλεια, απευθύν...   \n",
              "226           ΣΥΝΕΝΤΕΥΞΕΙΣ  «Μας δίνει δύναμη ότι παιδιά πιάνουν τις κιθάρ...   \n",
              "227         ΙΑΤΡΙΚΑ ΘΕΜΑΤΑ               Το Facebook κατά των αντιεμβολιαστών   \n",
              "\n",
              "                 date                                             author  \\\n",
              "0    2023-07-01 16:00                                 Θανάσης Βασιλείου    \n",
              "1    2023-05-21 12:18   Ντίνα Δασκαλοπούλου, Δημήτρης Τερζής, Γιώτα Τ...   \n",
              "2    2023-04-23 06:00                            Δημήτρης Κανελλόπουλος    \n",
              "3    2023-04-01 16:00                           Γιώργος Γιαννουλόπουλος    \n",
              "4    2022-12-08 06:00                               Βίκυ Καπετανοπούλου    \n",
              "..                ...                                                ...   \n",
              "223  2020-05-03 11:40            Ντίνα Δασκαλοπούλου, Αφροδίτη Τζιαντζή    \n",
              "224  2019-12-09 16:33                                  Γιάννης Καψάσκης    \n",
              "225  2019-11-22 22:30                                 Αφροδίτη Τζιαντζή    \n",
              "226  2019-11-18 10:39                                  Γιάννης Καψάσκης    \n",
              "227  2019-03-08 10:50                                          efsyn.gr    \n",
              "\n",
              "                                             full_text  \n",
              "0    Η πιο γλυκιά πατρίδα είναι η καρδιά…που τ’ άγι...  \n",
              "1    Με το αφήγημα του «νόμου και της τάξης» και με...  \n",
              "2    «Θα ήταν πραγματικά πολύ περίεργο, στην εποχή ...  \n",
              "3    Υπάρχει μέτωπο αντι-ΣΥΡΙΖΑ; Και ναι, και όχι. ...  \n",
              "4    Ο ηγέτης της οργάνωσης, «πρίγκιπας» Χάινριχ Ρό...  \n",
              "..                                                 ...  \n",
              "223  Καθώς ξετυλίγεται το νέο κεφάλαιο της ζωής μετ...  \n",
              "224  Είναι ένας από τους σύγχρονους εκπροσώπους της...  \n",
              "225  Σήμερα ξεκινάει τις εργασίες του στο Εθνικό Ιδ...  \n",
              "226  Το να κυκλοφορήσει ένα rock συγκρότημα έναν αξ...  \n",
              "227  Εμβολιασμός- (AP Photo/David Goldman) Τα μέσα ...  \n",
              "\n",
              "[228 rows x 7 columns]"
            ],
            "text/html": [
              "\n",
              "\n",
              "  <div id=\"df-7ab58e14-4e1d-44bb-8392-ab7b7e8437a2\">\n",
              "    <div class=\"colab-df-container\">\n",
              "      <div>\n",
              "<style scoped>\n",
              "    .dataframe tbody tr th:only-of-type {\n",
              "        vertical-align: middle;\n",
              "    }\n",
              "\n",
              "    .dataframe tbody tr th {\n",
              "        vertical-align: top;\n",
              "    }\n",
              "\n",
              "    .dataframe thead th {\n",
              "        text-align: right;\n",
              "    }\n",
              "</style>\n",
              "<table border=\"1\" class=\"dataframe\">\n",
              "  <thead>\n",
              "    <tr style=\"text-align: right;\">\n",
              "      <th></th>\n",
              "      <th>site</th>\n",
              "      <th>url</th>\n",
              "      <th>section</th>\n",
              "      <th>title</th>\n",
              "      <th>date</th>\n",
              "      <th>author</th>\n",
              "      <th>full_text</th>\n",
              "    </tr>\n",
              "  </thead>\n",
              "  <tbody>\n",
              "    <tr>\n",
              "      <th>0</th>\n",
              "      <td>efsyn.gr</td>\n",
              "      <td>https://www.efsyn.gr/stiles/apopseis/396023_ah...</td>\n",
              "      <td>ΑΠΟΨΕΙΣ</td>\n",
              "      <td>Αχ Ελλάδα σ᾽αγαπώ</td>\n",
              "      <td>2023-07-01 16:00</td>\n",
              "      <td>Θανάσης Βασιλείου</td>\n",
              "      <td>Η πιο γλυκιά πατρίδα είναι η καρδιά…που τ’ άγι...</td>\n",
              "    </tr>\n",
              "    <tr>\n",
              "      <th>1</th>\n",
              "      <td>efsyn.gr</td>\n",
              "      <td>https://www.efsyn.gr/themata/thema-tis-efsyn/3...</td>\n",
              "      <td>ΤΟ ΘΕΜΑ ΤΗΣ «ΕΦ.ΣΥΝ.»</td>\n",
              "      <td>Η μαύρη βίβλος για τα δικαιώματα - Έργα και ημ...</td>\n",
              "      <td>2023-05-21 12:18</td>\n",
              "      <td>Ντίνα Δασκαλοπούλου, Δημήτρης Τερζής, Γιώτα Τ...</td>\n",
              "      <td>Με το αφήγημα του «νόμου και της τάξης» και με...</td>\n",
              "    </tr>\n",
              "    <tr>\n",
              "      <th>2</th>\n",
              "      <td>efsyn.gr</td>\n",
              "      <td>https://www.efsyn.gr/tehnes/media/386894_ta-me...</td>\n",
              "      <td>MEDIA</td>\n",
              "      <td>Τα μέσα κοινωνικής δικτύωσης δεν είναι μια «ει...</td>\n",
              "      <td>2023-04-23 06:00</td>\n",
              "      <td>Δημήτρης Κανελλόπουλος</td>\n",
              "      <td>«Θα ήταν πραγματικά πολύ περίεργο, στην εποχή ...</td>\n",
              "    </tr>\n",
              "    <tr>\n",
              "      <th>3</th>\n",
              "      <td>efsyn.gr</td>\n",
              "      <td>https://www.efsyn.gr/stiles/apopseis/384306_mi...</td>\n",
              "      <td>ΑΠΟΨΕΙΣ</td>\n",
              "      <td>Μια περίεργη σύμπτωση απόψεων</td>\n",
              "      <td>2023-04-01 16:00</td>\n",
              "      <td>Γιώργος Γιαννουλόπουλος</td>\n",
              "      <td>Υπάρχει μέτωπο αντι-ΣΥΡΙΖΑ; Και ναι, και όχι. ...</td>\n",
              "    </tr>\n",
              "    <tr>\n",
              "      <th>4</th>\n",
              "      <td>efsyn.gr</td>\n",
              "      <td>https://www.efsyn.gr/kosmos/eyropi/370145_akro...</td>\n",
              "      <td>ΕΥΡΩΠΗ</td>\n",
              "      <td>Ακροδεξιοί τρομοκράτες ετοίμαζαν πραξικόπημα</td>\n",
              "      <td>2022-12-08 06:00</td>\n",
              "      <td>Βίκυ Καπετανοπούλου</td>\n",
              "      <td>Ο ηγέτης της οργάνωσης, «πρίγκιπας» Χάινριχ Ρό...</td>\n",
              "    </tr>\n",
              "    <tr>\n",
              "      <th>...</th>\n",
              "      <td>...</td>\n",
              "      <td>...</td>\n",
              "      <td>...</td>\n",
              "      <td>...</td>\n",
              "      <td>...</td>\n",
              "      <td>...</td>\n",
              "      <td>...</td>\n",
              "    </tr>\n",
              "    <tr>\n",
              "      <th>223</th>\n",
              "      <td>efsyn.gr</td>\n",
              "      <td>https://www.efsyn.gr/themata/thema-tis-efsyn/2...</td>\n",
              "      <td>ΤΟ ΘΕΜΑ ΤΗΣ «ΕΦ.ΣΥΝ.»</td>\n",
              "      <td>Ευεξία, ομορφιά και «ευ ζην» στην πανδημία: η ...</td>\n",
              "      <td>2020-05-03 11:40</td>\n",
              "      <td>Ντίνα Δασκαλοπούλου, Αφροδίτη Τζιαντζή</td>\n",
              "      <td>Καθώς ξετυλίγεται το νέο κεφάλαιο της ζωής μετ...</td>\n",
              "    </tr>\n",
              "    <tr>\n",
              "      <th>224</th>\n",
              "      <td>efsyn.gr</td>\n",
              "      <td>https://www.efsyn.gr/efsyn-city/synenteyxeis/2...</td>\n",
              "      <td>ΣΥΝΕΝΤΕΥΞΕΙΣ</td>\n",
              "      <td>Στ. Ανατολίτης: Το χιούμορ δεν έχει ηθική πυξί...</td>\n",
              "      <td>2019-12-09 16:33</td>\n",
              "      <td>Γιάννης Καψάσκης</td>\n",
              "      <td>Είναι ένας από τους σύγχρονους εκπροσώπους της...</td>\n",
              "    </tr>\n",
              "    <tr>\n",
              "      <th>225</th>\n",
              "      <td>efsyn.gr</td>\n",
              "      <td>https://www.efsyn.gr/ellada/ygeia/220057_i-omo...</td>\n",
              "      <td>ΥΓΕΙΑ</td>\n",
              "      <td>«Η ομοιοπαθητική δεν είναι πολυτέλεια, απευθύν...</td>\n",
              "      <td>2019-11-22 22:30</td>\n",
              "      <td>Αφροδίτη Τζιαντζή</td>\n",
              "      <td>Σήμερα ξεκινάει τις εργασίες του στο Εθνικό Ιδ...</td>\n",
              "    </tr>\n",
              "    <tr>\n",
              "      <th>226</th>\n",
              "      <td>efsyn.gr</td>\n",
              "      <td>https://www.efsyn.gr/efsyn-city/synenteyxeis/2...</td>\n",
              "      <td>ΣΥΝΕΝΤΕΥΞΕΙΣ</td>\n",
              "      <td>«Μας δίνει δύναμη ότι παιδιά πιάνουν τις κιθάρ...</td>\n",
              "      <td>2019-11-18 10:39</td>\n",
              "      <td>Γιάννης Καψάσκης</td>\n",
              "      <td>Το να κυκλοφορήσει ένα rock συγκρότημα έναν αξ...</td>\n",
              "    </tr>\n",
              "    <tr>\n",
              "      <th>227</th>\n",
              "      <td>efsyn.gr</td>\n",
              "      <td>https://www.efsyn.gr/epistimi/iatrika-themata/...</td>\n",
              "      <td>ΙΑΤΡΙΚΑ ΘΕΜΑΤΑ</td>\n",
              "      <td>Το Facebook κατά των αντιεμβολιαστών</td>\n",
              "      <td>2019-03-08 10:50</td>\n",
              "      <td>efsyn.gr</td>\n",
              "      <td>Εμβολιασμός- (AP Photo/David Goldman) Τα μέσα ...</td>\n",
              "    </tr>\n",
              "  </tbody>\n",
              "</table>\n",
              "<p>228 rows × 7 columns</p>\n",
              "</div>\n",
              "      <button class=\"colab-df-convert\" onclick=\"convertToInteractive('df-7ab58e14-4e1d-44bb-8392-ab7b7e8437a2')\"\n",
              "              title=\"Convert this dataframe to an interactive table.\"\n",
              "              style=\"display:none;\">\n",
              "\n",
              "  <svg xmlns=\"http://www.w3.org/2000/svg\" height=\"24px\"viewBox=\"0 0 24 24\"\n",
              "       width=\"24px\">\n",
              "    <path d=\"M0 0h24v24H0V0z\" fill=\"none\"/>\n",
              "    <path d=\"M18.56 5.44l.94 2.06.94-2.06 2.06-.94-2.06-.94-.94-2.06-.94 2.06-2.06.94zm-11 1L8.5 8.5l.94-2.06 2.06-.94-2.06-.94L8.5 2.5l-.94 2.06-2.06.94zm10 10l.94 2.06.94-2.06 2.06-.94-2.06-.94-.94-2.06-.94 2.06-2.06.94z\"/><path d=\"M17.41 7.96l-1.37-1.37c-.4-.4-.92-.59-1.43-.59-.52 0-1.04.2-1.43.59L10.3 9.45l-7.72 7.72c-.78.78-.78 2.05 0 2.83L4 21.41c.39.39.9.59 1.41.59.51 0 1.02-.2 1.41-.59l7.78-7.78 2.81-2.81c.8-.78.8-2.07 0-2.86zM5.41 20L4 18.59l7.72-7.72 1.47 1.35L5.41 20z\"/>\n",
              "  </svg>\n",
              "      </button>\n",
              "\n",
              "\n",
              "\n",
              "    <div id=\"df-b42d339f-b9fa-4e6a-8240-9c7fcd2702b2\">\n",
              "      <button class=\"colab-df-quickchart\" onclick=\"quickchart('df-b42d339f-b9fa-4e6a-8240-9c7fcd2702b2')\"\n",
              "              title=\"Suggest charts.\"\n",
              "              style=\"display:none;\">\n",
              "\n",
              "<svg xmlns=\"http://www.w3.org/2000/svg\" height=\"24px\"viewBox=\"0 0 24 24\"\n",
              "     width=\"24px\">\n",
              "    <g>\n",
              "        <path d=\"M19 3H5c-1.1 0-2 .9-2 2v14c0 1.1.9 2 2 2h14c1.1 0 2-.9 2-2V5c0-1.1-.9-2-2-2zM9 17H7v-7h2v7zm4 0h-2V7h2v10zm4 0h-2v-4h2v4z\"/>\n",
              "    </g>\n",
              "</svg>\n",
              "      </button>\n",
              "    </div>\n",
              "\n",
              "<style>\n",
              "  .colab-df-quickchart {\n",
              "    background-color: #E8F0FE;\n",
              "    border: none;\n",
              "    border-radius: 50%;\n",
              "    cursor: pointer;\n",
              "    display: none;\n",
              "    fill: #1967D2;\n",
              "    height: 32px;\n",
              "    padding: 0 0 0 0;\n",
              "    width: 32px;\n",
              "  }\n",
              "\n",
              "  .colab-df-quickchart:hover {\n",
              "    background-color: #E2EBFA;\n",
              "    box-shadow: 0px 1px 2px rgba(60, 64, 67, 0.3), 0px 1px 3px 1px rgba(60, 64, 67, 0.15);\n",
              "    fill: #174EA6;\n",
              "  }\n",
              "\n",
              "  [theme=dark] .colab-df-quickchart {\n",
              "    background-color: #3B4455;\n",
              "    fill: #D2E3FC;\n",
              "  }\n",
              "\n",
              "  [theme=dark] .colab-df-quickchart:hover {\n",
              "    background-color: #434B5C;\n",
              "    box-shadow: 0px 1px 3px 1px rgba(0, 0, 0, 0.15);\n",
              "    filter: drop-shadow(0px 1px 2px rgba(0, 0, 0, 0.3));\n",
              "    fill: #FFFFFF;\n",
              "  }\n",
              "</style>\n",
              "\n",
              "    <script>\n",
              "      async function quickchart(key) {\n",
              "        const containerElement = document.querySelector('#' + key);\n",
              "        const charts = await google.colab.kernel.invokeFunction(\n",
              "            'suggestCharts', [key], {});\n",
              "      }\n",
              "    </script>\n",
              "\n",
              "      <script>\n",
              "\n",
              "function displayQuickchartButton(domScope) {\n",
              "  let quickchartButtonEl =\n",
              "    domScope.querySelector('#df-b42d339f-b9fa-4e6a-8240-9c7fcd2702b2 button.colab-df-quickchart');\n",
              "  quickchartButtonEl.style.display =\n",
              "    google.colab.kernel.accessAllowed ? 'block' : 'none';\n",
              "}\n",
              "\n",
              "        displayQuickchartButton(document);\n",
              "      </script>\n",
              "      <style>\n",
              "    .colab-df-container {\n",
              "      display:flex;\n",
              "      flex-wrap:wrap;\n",
              "      gap: 12px;\n",
              "    }\n",
              "\n",
              "    .colab-df-convert {\n",
              "      background-color: #E8F0FE;\n",
              "      border: none;\n",
              "      border-radius: 50%;\n",
              "      cursor: pointer;\n",
              "      display: none;\n",
              "      fill: #1967D2;\n",
              "      height: 32px;\n",
              "      padding: 0 0 0 0;\n",
              "      width: 32px;\n",
              "    }\n",
              "\n",
              "    .colab-df-convert:hover {\n",
              "      background-color: #E2EBFA;\n",
              "      box-shadow: 0px 1px 2px rgba(60, 64, 67, 0.3), 0px 1px 3px 1px rgba(60, 64, 67, 0.15);\n",
              "      fill: #174EA6;\n",
              "    }\n",
              "\n",
              "    [theme=dark] .colab-df-convert {\n",
              "      background-color: #3B4455;\n",
              "      fill: #D2E3FC;\n",
              "    }\n",
              "\n",
              "    [theme=dark] .colab-df-convert:hover {\n",
              "      background-color: #434B5C;\n",
              "      box-shadow: 0px 1px 3px 1px rgba(0, 0, 0, 0.15);\n",
              "      filter: drop-shadow(0px 1px 2px rgba(0, 0, 0, 0.3));\n",
              "      fill: #FFFFFF;\n",
              "    }\n",
              "  </style>\n",
              "\n",
              "      <script>\n",
              "        const buttonEl =\n",
              "          document.querySelector('#df-7ab58e14-4e1d-44bb-8392-ab7b7e8437a2 button.colab-df-convert');\n",
              "        buttonEl.style.display =\n",
              "          google.colab.kernel.accessAllowed ? 'block' : 'none';\n",
              "\n",
              "        async function convertToInteractive(key) {\n",
              "          const element = document.querySelector('#df-7ab58e14-4e1d-44bb-8392-ab7b7e8437a2');\n",
              "          const dataTable =\n",
              "            await google.colab.kernel.invokeFunction('convertToInteractive',\n",
              "                                                     [key], {});\n",
              "          if (!dataTable) return;\n",
              "\n",
              "          const docLinkHtml = 'Like what you see? Visit the ' +\n",
              "            '<a target=\"_blank\" href=https://colab.research.google.com/notebooks/data_table.ipynb>data table notebook</a>'\n",
              "            + ' to learn more about interactive tables.';\n",
              "          element.innerHTML = '';\n",
              "          dataTable['output_type'] = 'display_data';\n",
              "          await google.colab.output.renderOutput(dataTable, element);\n",
              "          const docLink = document.createElement('div');\n",
              "          docLink.innerHTML = docLinkHtml;\n",
              "          element.appendChild(docLink);\n",
              "        }\n",
              "      </script>\n",
              "    </div>\n",
              "  </div>\n"
            ]
          },
          "metadata": {},
          "execution_count": 24
        }
      ]
    },
    {
      "cell_type": "code",
      "source": [
        "efsyn_full_articles_df.to_csv('/content/temp/efsyn_full_articles.csv', index=False)"
      ],
      "metadata": {
        "id": "kEkU01r7LQ_6"
      },
      "execution_count": 25,
      "outputs": []
    }
  ]
}